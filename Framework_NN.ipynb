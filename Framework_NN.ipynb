{
  "nbformat": 4,
  "nbformat_minor": 0,
  "metadata": {
    "colab": {
      "provenance": [],
      "authorship_tag": "ABX9TyN6hbhyVIyCYbU9rUchyL2K",
      "include_colab_link": true
    },
    "kernelspec": {
      "name": "python3",
      "display_name": "Python 3"
    },
    "language_info": {
      "name": "python"
    },
    "gpuClass": "standard"
  },
  "cells": [
    {
      "cell_type": "markdown",
      "metadata": {
        "id": "view-in-github",
        "colab_type": "text"
      },
      "source": [
        "<a href=\"https://colab.research.google.com/github/guiOsorio/Learning_JAX/blob/master/Framework_NN.ipynb\" target=\"_parent\"><img src=\"https://colab.research.google.com/assets/colab-badge.svg\" alt=\"Open In Colab\"/></a>"
      ]
    },
    {
      "cell_type": "code",
      "execution_count": 88,
      "metadata": {
        "id": "Bg6tv5i8ucnK"
      },
      "outputs": [],
      "source": [
        "import numpy as np\n",
        "import jax.numpy as jnp\n",
        "from jax import grad, jit, vmap, grad, value_and_grad\n",
        "from jax import random\n",
        "import jax\n",
        "from jax.scipy.special import logsumexp\n",
        "\n",
        "import torch\n",
        "import torch.nn as nn\n",
        "import torch.nn.functional as F\n",
        "import torch.optim as optim\n",
        "from torch.utils.data import Dataset, DataLoader\n",
        "\n",
        "import time\n",
        "import matplotlib.pyplot as plt\n",
        "import pandas as pd"
      ]
    },
    {
      "cell_type": "markdown",
      "source": [
        "### Train basic PyTorch model"
      ],
      "metadata": {
        "id": "2d8inhepA0Ip"
      }
    },
    {
      "cell_type": "code",
      "source": [
        "class CustomTensorDataset(Dataset):\n",
        "  def __init__(self, dataset):\n",
        "    [data_X, data_y] = dataset\n",
        "    X_tensor, y_tensor = data_X, data_y\n",
        "    tensors = (X_tensor, y_tensor)\n",
        "    assert all(tensors[0].size(0) == tensor.size(0) for tensor in tensors)\n",
        "    self.tensors = tensors\n",
        "\n",
        "  def __getitem__(self, index):\n",
        "    x = self.tensors[0][index]\n",
        "\n",
        "    y = self.tensors[1][index]\n",
        "\n",
        "    return x, y\n",
        "\n",
        "  def __len__(self):\n",
        "    return self.tensors[0].size(0)"
      ],
      "metadata": {
        "id": "5FnanvBha5TI"
      },
      "execution_count": 89,
      "outputs": []
    },
    {
      "cell_type": "code",
      "source": [
        "train_x = torch.tensor([\n",
        "    [2.7810836,2.550537003],\n",
        "    [1.465489372,2.362125076],\n",
        "    [3.396561688,4.400293529],\n",
        "    [1.38807019,1.850220317],\n",
        "    [3.06407232,3.005305973],\n",
        "    [7.627531214,2.759262235],\n",
        "    [5.332441248,2.088626775],\n",
        "    [6.922596716,1.77106367],\n",
        "    [8.675418651,-0.242068655],\n",
        "    [7.673756466,3.508563011]\n",
        "])\n",
        "\n",
        "train_y = torch.tensor([0., 0., 0., 0., 0., 1., 1., 1., 1., 1.])\n",
        "\n",
        "train_x.shape,train_y.shape"
      ],
      "metadata": {
        "colab": {
          "base_uri": "https://localhost:8080/"
        },
        "id": "IGct23YKnCOt",
        "outputId": "83455060-8bfa-442d-ca6f-db38599a9d1b"
      },
      "execution_count": 90,
      "outputs": [
        {
          "output_type": "execute_result",
          "data": {
            "text/plain": [
              "(torch.Size([10, 2]), torch.Size([10]))"
            ]
          },
          "metadata": {},
          "execution_count": 90
        }
      ]
    },
    {
      "cell_type": "code",
      "source": [
        "# Define model variables\n",
        "input_size = train_x.size()[1]\n",
        "hidden_size = 1 # number of neurons in hidden layer\n",
        "output_size = 2 # binary = 2 possible solutions\n",
        "\n",
        "model = nn.Sequential(nn.Linear(input_size, hidden_size)\n",
        "                      ,nn.Sigmoid()\n",
        "                      ,nn.Linear(hidden_size, output_size))\n",
        "                      # ,nn.Sigmoid()) #why does adding sigmoid mess up the output?\n",
        "\n",
        "model"
      ],
      "metadata": {
        "colab": {
          "base_uri": "https://localhost:8080/"
        },
        "id": "IaHWQi7LplpJ",
        "outputId": "200ff483-978c-4e0a-c7e2-d75f5de0fdc6"
      },
      "execution_count": 91,
      "outputs": [
        {
          "output_type": "execute_result",
          "data": {
            "text/plain": [
              "Sequential(\n",
              "  (0): Linear(in_features=2, out_features=1, bias=True)\n",
              "  (1): Sigmoid()\n",
              "  (2): Linear(in_features=1, out_features=2, bias=True)\n",
              ")"
            ]
          },
          "metadata": {},
          "execution_count": 91
        }
      ]
    },
    {
      "cell_type": "code",
      "source": [
        "train = [train_x, train_y]\n",
        "train_dset = CustomTensorDataset(train)\n",
        "dataloader = DataLoader(train_dset, shuffle=True, num_workers=2)\n",
        "# Define variables for training\n",
        "loss = nn.MSELoss() # mean squared error\n",
        "optimizer = optim.SGD(model.parameters(), lr=0.01)"
      ],
      "metadata": {
        "id": "wzPE-Kpftn8-"
      },
      "execution_count": 92,
      "outputs": []
    },
    {
      "cell_type": "code",
      "source": [
        "losses = []\n",
        "start = time.time()\n",
        "\n",
        "# Train PyTorch model\n",
        "for epoch in range(100):\n",
        "  running_loss = 0\n",
        "  for data in dataloader:\n",
        "    x, y = data\n",
        "    optimizer.zero_grad() # reset gradients\n",
        "    loss_val = loss(model(x), y) # calculate loss\n",
        "    loss_val.backward() # calculate gradients\n",
        "    optimizer.step() # update weights\n",
        "    running_loss += loss_val.item()\n",
        "  losses.append(running_loss)\n",
        "end = time.time()\n",
        "\n",
        "print(end-start)"
      ],
      "metadata": {
        "colab": {
          "base_uri": "https://localhost:8080/"
        },
        "id": "8v8j-xG7vsSV",
        "outputId": "77f2c200-6227-4a1e-9e77-52c1700a3886"
      },
      "execution_count": 93,
      "outputs": [
        {
          "output_type": "stream",
          "name": "stderr",
          "text": [
            "/usr/local/lib/python3.7/dist-packages/torch/nn/modules/loss.py:530: UserWarning: Using a target size (torch.Size([1])) that is different to the input size (torch.Size([1, 2])). This will likely lead to incorrect results due to broadcasting. Please ensure they have the same size.\n",
            "  return F.mse_loss(input, target, reduction=self.reduction)\n"
          ]
        },
        {
          "output_type": "stream",
          "name": "stdout",
          "text": [
            "10.559067726135254\n"
          ]
        }
      ]
    },
    {
      "cell_type": "code",
      "source": [
        "plt.plot(losses)"
      ],
      "metadata": {
        "colab": {
          "base_uri": "https://localhost:8080/",
          "height": 283
        },
        "id": "E1wkqBUe4UxW",
        "outputId": "a3fd292b-9837-4448-df85-0ed4e61f64d5"
      },
      "execution_count": 94,
      "outputs": [
        {
          "output_type": "execute_result",
          "data": {
            "text/plain": [
              "[<matplotlib.lines.Line2D at 0x7f4f950d56d0>]"
            ]
          },
          "metadata": {},
          "execution_count": 94
        },
        {
          "output_type": "display_data",
          "data": {
            "text/plain": [
              "<Figure size 432x288 with 1 Axes>"
            ],
            "image/png": "[encoded data removed]"
          },
          "metadata": {
            "needs_background": "light"
          }
        }
      ]
    },
    {
      "cell_type": "markdown",
      "source": [
        "### Test PyTorch model on credit card dataset, keep track of time of training and prediction"
      ],
      "metadata": {
        "id": "9OM2YmugArXd"
      }
    },
    {
      "cell_type": "code",
      "source": [
        "# Load data\n",
        "url = 'https://raw.githubusercontent.com/nsethi31/Kaggle-Data-Credit-Card-Fraud-Detection/master/creditcard.csv'\n",
        "df = pd.read_csv(url)\n",
        "df.head()"
      ],
      "metadata": {
        "colab": {
          "base_uri": "https://localhost:8080/",
          "height": 236
        },
        "id": "idulwBTJrCzN",
        "outputId": "13ba209b-0d1d-431c-d76b-ba5397b2d134"
      },
      "execution_count": 95,
      "outputs": [
        {
          "output_type": "execute_result",
          "data": {
            "text/plain": [
              "   Time        V1        V2        V3        V4        V5        V6        V7  \\\n",
              "0   0.0 -1.359807 -0.072781  2.536347  1.378155 -0.338321  0.462388  0.239599   \n",
              "1   0.0  1.191857  0.266151  0.166480  0.448154  0.060018 -0.082361 -0.078803   \n",
              "2   1.0 -1.358354 -1.340163  1.773209  0.379780 -0.503198  1.800499  0.791461   \n",
              "3   1.0 -0.966272 -0.185226  1.792993 -0.863291 -0.010309  1.247203  0.237609   \n",
              "4   2.0 -1.158233  0.877737  1.548718  0.403034 -0.407193  0.095921  0.592941   \n",
              "\n",
              "         V8        V9  ...       V21       V22       V23       V24       V25  \\\n",
              "0  0.098698  0.363787  ... -0.018307  0.277838 -0.110474  0.066928  0.128539   \n",
              "1  0.085102 -0.255425  ... -0.225775 -0.638672  0.101288 -0.339846  0.167170   \n",
              "2  0.247676 -1.514654  ...  0.247998  0.771679  0.909412 -0.689281 -0.327642   \n",
              "3  0.377436 -1.387024  ... -0.108300  0.005274 -0.190321 -1.175575  0.647376   \n",
              "4 -0.270533  0.817739  ... -0.009431  0.798278 -0.137458  0.141267 -0.206010   \n",
              "\n",
              "        V26       V27       V28  Amount  Class  \n",
              "0 -0.189115  0.133558 -0.021053  149.62      0  \n",
              "1  0.125895 -0.008983  0.014724    2.69      0  \n",
              "2 -0.139097 -0.055353 -0.059752  378.66      0  \n",
              "3 -0.221929  0.062723  0.061458  123.50      0  \n",
              "4  0.502292  0.219422  0.215153   69.99      0  \n",
              "\n",
              "[5 rows x 31 columns]"
            ],
            "text/html": [
              "\n",
              "  <div id=\"df-f9f4f509-b57f-457e-9a8c-2c79c31de58b\">\n",
              "    <div class=\"colab-df-container\">\n",
              "      <div>\n",
              "<style scoped>\n",
              "    .dataframe tbody tr th:only-of-type {\n",
              "        vertical-align: middle;\n",
              "    }\n",
              "\n",
              "    .dataframe tbody tr th {\n",
              "        vertical-align: top;\n",
              "    }\n",
              "\n",
              "    .dataframe thead th {\n",
              "        text-align: right;\n",
              "    }\n",
              "</style>\n",
              "<table border=\"1\" class=\"dataframe\">\n",
              "  <thead>\n",
              "    <tr style=\"text-align: right;\">\n",
              "      <th></th>\n",
              "      <th>Time</th>\n",
              "      <th>V1</th>\n",
              "      <th>V2</th>\n",
              "      <th>V3</th>\n",
              "      <th>V4</th>\n",
              "      <th>V5</th>\n",
              "      <th>V6</th>\n",
              "      <th>V7</th>\n",
              "      <th>V8</th>\n",
              "      <th>V9</th>\n",
              "      <th>...</th>\n",
              "      <th>V21</th>\n",
              "      <th>V22</th>\n",
              "      <th>V23</th>\n",
              "      <th>V24</th>\n",
              "      <th>V25</th>\n",
              "      <th>V26</th>\n",
              "      <th>V27</th>\n",
              "      <th>V28</th>\n",
              "      <th>Amount</th>\n",
              "      <th>Class</th>\n",
              "    </tr>\n",
              "  </thead>\n",
              "  <tbody>\n",
              "    <tr>\n",
              "      <th>0</th>\n",
              "      <td>0.0</td>\n",
              "      <td>-1.359807</td>\n",
              "      <td>-0.072781</td>\n",
              "      <td>2.536347</td>\n",
              "      <td>1.378155</td>\n",
              "      <td>-0.338321</td>\n",
              "      <td>0.462388</td>\n",
              "      <td>0.239599</td>\n",
              "      <td>0.098698</td>\n",
              "      <td>0.363787</td>\n",
              "      <td>...</td>\n",
              "      <td>-0.018307</td>\n",
              "      <td>0.277838</td>\n",
              "      <td>-0.110474</td>\n",
              "      <td>0.066928</td>\n",
              "      <td>0.128539</td>\n",
              "      <td>-0.189115</td>\n",
              "      <td>0.133558</td>\n",
              "      <td>-0.021053</td>\n",
              "      <td>149.62</td>\n",
              "      <td>0</td>\n",
              "    </tr>\n",
              "    <tr>\n",
              "      <th>1</th>\n",
              "      <td>0.0</td>\n",
              "      <td>1.191857</td>\n",
              "      <td>0.266151</td>\n",
              "      <td>0.166480</td>\n",
              "      <td>0.448154</td>\n",
              "      <td>0.060018</td>\n",
              "      <td>-0.082361</td>\n",
              "      <td>-0.078803</td>\n",
              "      <td>0.085102</td>\n",
              "      <td>-0.255425</td>\n",
              "      <td>...</td>\n",
              "      <td>-0.225775</td>\n",
              "      <td>-0.638672</td>\n",
              "      <td>0.101288</td>\n",
              "      <td>-0.339846</td>\n",
              "      <td>0.167170</td>\n",
              "      <td>0.125895</td>\n",
              "      <td>-0.008983</td>\n",
              "      <td>0.014724</td>\n",
              "      <td>2.69</td>\n",
              "      <td>0</td>\n",
              "    </tr>\n",
              "    <tr>\n",
              "      <th>2</th>\n",
              "      <td>1.0</td>\n",
              "      <td>-1.358354</td>\n",
              "      <td>-1.340163</td>\n",
              "      <td>1.773209</td>\n",
              "      <td>0.379780</td>\n",
              "      <td>-0.503198</td>\n",
              "      <td>1.800499</td>\n",
              "      <td>0.791461</td>\n",
              "      <td>0.247676</td>\n",
              "      <td>-1.514654</td>\n",
              "      <td>...</td>\n",
              "      <td>0.247998</td>\n",
              "      <td>0.771679</td>\n",
              "      <td>0.909412</td>\n",
              "      <td>-0.689281</td>\n",
              "      <td>-0.327642</td>\n",
              "      <td>-0.139097</td>\n",
              "      <td>-0.055353</td>\n",
              "      <td>-0.059752</td>\n",
              "      <td>378.66</td>\n",
              "      <td>0</td>\n",
              "    </tr>\n",
              "    <tr>\n",
              "      <th>3</th>\n",
              "      <td>1.0</td>\n",
              "      <td>-0.966272</td>\n",
              "      <td>-0.185226</td>\n",
              "      <td>1.792993</td>\n",
              "      <td>-0.863291</td>\n",
              "      <td>-0.010309</td>\n",
              "      <td>1.247203</td>\n",
              "      <td>0.237609</td>\n",
              "      <td>0.377436</td>\n",
              "      <td>-1.387024</td>\n",
              "      <td>...</td>\n",
              "      <td>-0.108300</td>\n",
              "      <td>0.005274</td>\n",
              "      <td>-0.190321</td>\n",
              "      <td>-1.175575</td>\n",
              "      <td>0.647376</td>\n",
              "      <td>-0.221929</td>\n",
              "      <td>0.062723</td>\n",
              "      <td>0.061458</td>\n",
              "      <td>123.50</td>\n",
              "      <td>0</td>\n",
              "    </tr>\n",
              "    <tr>\n",
              "      <th>4</th>\n",
              "      <td>2.0</td>\n",
              "      <td>-1.158233</td>\n",
              "      <td>0.877737</td>\n",
              "      <td>1.548718</td>\n",
              "      <td>0.403034</td>\n",
              "      <td>-0.407193</td>\n",
              "      <td>0.095921</td>\n",
              "      <td>0.592941</td>\n",
              "      <td>-0.270533</td>\n",
              "      <td>0.817739</td>\n",
              "      <td>...</td>\n",
              "      <td>-0.009431</td>\n",
              "      <td>0.798278</td>\n",
              "      <td>-0.137458</td>\n",
              "      <td>0.141267</td>\n",
              "      <td>-0.206010</td>\n",
              "      <td>0.502292</td>\n",
              "      <td>0.219422</td>\n",
              "      <td>0.215153</td>\n",
              "      <td>69.99</td>\n",
              "      <td>0</td>\n",
              "    </tr>\n",
              "  </tbody>\n",
              "</table>\n",
              "<p>5 rows × 31 columns</p>\n",
              "</div>\n",
              "      <button class=\"colab-df-convert\" onclick=\"convertToInteractive('df-f9f4f509-b57f-457e-9a8c-2c79c31de58b')\"\n",
              "              title=\"Convert this dataframe to an interactive table.\"\n",
              "              style=\"display:none;\">\n",
              "        \n",
              "  <svg xmlns=\"http://www.w3.org/2000/svg\" height=\"24px\"viewBox=\"0 0 24 24\"\n",
              "       width=\"24px\">\n",
              "    <path d=\"M0 0h24v24H0V0z\" fill=\"none\"/>\n",
              "    <path d=\"M18.56 5.44l.94 2.06.94-2.06 2.06-.94-2.06-.94-.94-2.06-.94 2.06-2.06.94zm-11 1L8.5 8.5l.94-2.06 2.06-.94-2.06-.94L8.5 2.5l-.94 2.06-2.06.94zm10 10l.94 2.06.94-2.06 2.06-.94-2.06-.94-.94-2.06-.94 2.06-2.06.94z\"/><path d=\"M17.41 7.96l-1.37-1.37c-.4-.4-.92-.59-1.43-.59-.52 0-1.04.2-1.43.59L10.3 9.45l-7.72 7.72c-.78.78-.78 2.05 0 2.83L4 21.41c.39.39.9.59 1.41.59.51 0 1.02-.2 1.41-.59l7.78-7.78 2.81-2.81c.8-.78.8-2.07 0-2.86zM5.41 20L4 18.59l7.72-7.72 1.47 1.35L5.41 20z\"/>\n",
              "  </svg>\n",
              "      </button>\n",
              "      \n",
              "  <style>\n",
              "    .colab-df-container {\n",
              "      display:flex;\n",
              "      flex-wrap:wrap;\n",
              "      gap: 12px;\n",
              "    }\n",
              "\n",
              "    .colab-df-convert {\n",
              "      background-color: #E8F0FE;\n",
              "      border: none;\n",
              "      border-radius: 50%;\n",
              "      cursor: pointer;\n",
              "      display: none;\n",
              "      fill: #1967D2;\n",
              "      height: 32px;\n",
              "      padding: 0 0 0 0;\n",
              "      width: 32px;\n",
              "    }\n",
              "\n",
              "    .colab-df-convert:hover {\n",
              "      background-color: #E2EBFA;\n",
              "      box-shadow: 0px 1px 2px rgba(60, 64, 67, 0.3), 0px 1px 3px 1px rgba(60, 64, 67, 0.15);\n",
              "      fill: #174EA6;\n",
              "    }\n",
              "\n",
              "    [theme=dark] .colab-df-convert {\n",
              "      background-color: #3B4455;\n",
              "      fill: #D2E3FC;\n",
              "    }\n",
              "\n",
              "    [theme=dark] .colab-df-convert:hover {\n",
              "      background-color: #434B5C;\n",
              "      box-shadow: 0px 1px 3px 1px rgba(0, 0, 0, 0.15);\n",
              "      filter: drop-shadow(0px 1px 2px rgba(0, 0, 0, 0.3));\n",
              "      fill: #FFFFFF;\n",
              "    }\n",
              "  </style>\n",
              "\n",
              "      <script>\n",
              "        const buttonEl =\n",
              "          document.querySelector('#df-f9f4f509-b57f-457e-9a8c-2c79c31de58b button.colab-df-convert');\n",
              "        buttonEl.style.display =\n",
              "          google.colab.kernel.accessAllowed ? 'block' : 'none';\n",
              "\n",
              "        async function convertToInteractive(key) {\n",
              "          const element = document.querySelector('#df-f9f4f509-b57f-457e-9a8c-2c79c31de58b');\n",
              "          const dataTable =\n",
              "            await google.colab.kernel.invokeFunction('convertToInteractive',\n",
              "                                                     [key], {});\n",
              "          if (!dataTable) return;\n",
              "\n",
              "          const docLinkHtml = 'Like what you see? Visit the ' +\n",
              "            '<a target=\"_blank\" href=https://colab.research.google.com/notebooks/data_table.ipynb>data table notebook</a>'\n",
              "            + ' to learn more about interactive tables.';\n",
              "          element.innerHTML = '';\n",
              "          dataTable['output_type'] = 'display_data';\n",
              "          await google.colab.output.renderOutput(dataTable, element);\n",
              "          const docLink = document.createElement('div');\n",
              "          docLink.innerHTML = docLinkHtml;\n",
              "          element.appendChild(docLink);\n",
              "        }\n",
              "      </script>\n",
              "    </div>\n",
              "  </div>\n",
              "  "
            ]
          },
          "metadata": {},
          "execution_count": 95
        }
      ]
    },
    {
      "cell_type": "code",
      "source": [
        "# Divide into features and labels\n",
        "df_x2 = df.iloc[:, 1:4]\n",
        "df_y2 = df['Class'].to_frame()\n",
        "\n",
        "total_points = df_y2.shape[0]\n",
        "split = round(total_points*0.6)\n",
        "\n",
        "# Convert to tensors\n",
        "train_x2 = torch.tensor(df_x2.values, dtype=torch.float32)[:split]\n",
        "train_y2 = torch.tensor(df_y2.values, dtype=torch.float32)[:split]\n",
        "\n",
        "test_x2 = torch.tensor(df_x2.values, dtype=torch.float32)[split:]\n",
        "test_y2 = torch.tensor(df_y2.values, dtype=torch.float32)[split:]\n",
        "\n",
        "train_x2.size(), train_y2.size(), test_x2.size(), test_y2.size()"
      ],
      "metadata": {
        "colab": {
          "base_uri": "https://localhost:8080/"
        },
        "id": "KhsZdgNHB1y8",
        "outputId": "3177ea9e-4403-427e-d765-d0ffc35d72e6"
      },
      "execution_count": 96,
      "outputs": [
        {
          "output_type": "execute_result",
          "data": {
            "text/plain": [
              "(torch.Size([170884, 3]),\n",
              " torch.Size([170884, 1]),\n",
              " torch.Size([113923, 3]),\n",
              " torch.Size([113923, 1]))"
            ]
          },
          "metadata": {},
          "execution_count": 96
        }
      ]
    },
    {
      "cell_type": "code",
      "source": [
        "# Define same model as the previous time\n",
        "input_size2 = train_x2.size()[1]\n",
        "hidden_size2 = 10 # number of neurons in hidden layer\n",
        "output_size2 = 1\n",
        "\n",
        "model2 = nn.Sequential(nn.Linear(input_size2, hidden_size2)\n",
        "                      ,nn.Sigmoid()\n",
        "                      ,nn.Linear(hidden_size2, output_size2)\n",
        "                      ,nn.Sigmoid()) #why does adding sigmoid mess up the output?\n",
        "\n",
        "model2"
      ],
      "metadata": {
        "colab": {
          "base_uri": "https://localhost:8080/"
        },
        "id": "ZD4rr8FxFAux",
        "outputId": "938a92f3-1552-42ea-f216-6ac2cbcef8d3"
      },
      "execution_count": 97,
      "outputs": [
        {
          "output_type": "execute_result",
          "data": {
            "text/plain": [
              "Sequential(\n",
              "  (0): Linear(in_features=3, out_features=10, bias=True)\n",
              "  (1): Sigmoid()\n",
              "  (2): Linear(in_features=10, out_features=1, bias=True)\n",
              "  (3): Sigmoid()\n",
              ")"
            ]
          },
          "metadata": {},
          "execution_count": 97
        }
      ]
    },
    {
      "cell_type": "code",
      "source": [
        "train2 = [train_x2, train_y2]\n",
        "train_dset2 = CustomTensorDataset(train2)\n",
        "dataloader2 = DataLoader(train_dset2, batch_size=100, shuffle=True)\n",
        "\n",
        "# Define variables for training\n",
        "loss2 = nn.MSELoss() # mean squared error\n",
        "optimizer2 = optim.SGD(model2.parameters(), lr=0.2)"
      ],
      "metadata": {
        "id": "rGKnjXwrGCPL"
      },
      "execution_count": 98,
      "outputs": []
    },
    {
      "cell_type": "code",
      "source": [
        "losses2 = []\n",
        "start2 = time.time()\n",
        "\n",
        "# Train PyTorch model\n",
        "for epoch in range(10):\n",
        "  running_loss = 0\n",
        "  for data in dataloader2:\n",
        "    x, y = data\n",
        "    optimizer2.zero_grad() # reset gradients\n",
        "    loss_val = loss2(model2(x), y) # calculate loss\n",
        "    loss_val.backward() # calculate gradients\n",
        "    optimizer2.step() # update weights\n",
        "    running_loss += loss_val.item()\n",
        "  losses2.append(running_loss)\n",
        "end2 = time.time()\n",
        "\n",
        "print(end2-start2)"
      ],
      "metadata": {
        "colab": {
          "base_uri": "https://localhost:8080/"
        },
        "id": "F26UyIf9G5Bi",
        "outputId": "c400bda3-a7da-4799-e9d8-0e03bf210273"
      },
      "execution_count": 99,
      "outputs": [
        {
          "output_type": "stream",
          "name": "stdout",
          "text": [
            "19.351577520370483\n"
          ]
        }
      ]
    },
    {
      "cell_type": "code",
      "source": [
        "plt.plot(losses2)"
      ],
      "metadata": {
        "colab": {
          "base_uri": "https://localhost:8080/",
          "height": 283
        },
        "id": "bGJz3xkSG7-9",
        "outputId": "b09300e2-ef76-465f-d6ee-20918d9e8241"
      },
      "execution_count": 100,
      "outputs": [
        {
          "output_type": "execute_result",
          "data": {
            "text/plain": [
              "[<matplotlib.lines.Line2D at 0x7f4f95361410>]"
            ]
          },
          "metadata": {},
          "execution_count": 100
        },
        {
          "output_type": "display_data",
          "data": {
            "text/plain": [
              "<Figure size 432x288 with 1 Axes>"
            ],
            "image/png": "[encoded data removed]"
          },
          "metadata": {
            "needs_background": "light"
          }
        }
      ]
    },
    {
      "cell_type": "code",
      "source": [
        "# Predict on test set\n",
        "correct = 0\n",
        "total = test_y2.size()[0]\n",
        "for features, label in zip(test_x2, test_y2):\n",
        "    pred = 0 if model2(features).item() < 0.5 else 1\n",
        "    l = label.item()\n",
        "    if pred == l:\n",
        "      correct += 1\n",
        "accuracy = correct / total\n",
        "print(accuracy)"
      ],
      "metadata": {
        "colab": {
          "base_uri": "https://localhost:8080/"
        },
        "id": "iNW_Tuz4j1u9",
        "outputId": "dc015151-8315-4579-ff45-26f73332f34d"
      },
      "execution_count": 101,
      "outputs": [
        {
          "output_type": "stream",
          "name": "stdout",
          "text": [
            "0.9988413226477533\n"
          ]
        }
      ]
    },
    {
      "cell_type": "markdown",
      "source": [
        "## PyTorch model times\n",
        "##### With no hardware accelerator:\n",
        "- Model 1 (100 epochs, num_workers=2) -> **8.6883 s**\n",
        "- Model 2 (10 epochs, batch_size=100, num_workers=10) -> \n",
        "\n",
        "##### With GPU hardware accelerator:\n",
        "- Model 1 (100 epochs, num_workers=2) -> **7.9927 s**\n",
        "- Model 2 (10 epochs, batch_size=100, num_workers=10)\n",
        "  - **4.8472 s**\n",
        "  - **accuracy of 99.35%**\n",
        "- Model 2 (10 epochs, num_workers = 10) \n",
        "  - **179.3489 s** \n",
        "  - **accuracy of 99.55%**\n",
        "- Model 2 (10 epochs)\n",
        "  - **37.5481 s**\n",
        "  - **accuracy of 99.6%**\n",
        "\n",
        "Results are expected using the first 10000 data points of the original data with 3 features, with an 80/20 train test split.\n",
        "\n",
        "## Final Model\n",
        "\n",
        "- Model 2 on entire dataset with 60/40 split & batch_size=100\n",
        "  - **17.4195 s**\n",
        "  - **accuracy of 99.88%**\n",
        "\n",
        "Further exploration questions/todos:\n",
        "-  why does sigmoid activation in output layer not work on model 1?\n",
        "- what does num_workers do? (note how training of model was faster without workers)\n",
        "- any particular advantages to using nn.Sequential vs nn.Module?\n",
        "- GPU vs TPU, when is it best to use each\n",
        "- do a classification matrix on final model for evaluation\n",
        "- create JAX neural net for Titanic dataset and submit, note accuracy in test set\n"
      ],
      "metadata": {
        "id": "tKCP-fgrIMiu"
      }
    },
    {
      "cell_type": "markdown",
      "source": [
        "### Build same model with JAX on credit card dataset - keep track of time of training and prediction and compare to PyTorch's model"
      ],
      "metadata": {
        "id": "gDeMb2IQA-tw"
      }
    },
    {
      "cell_type": "code",
      "source": [
        "# Initialize parameters of the model\n",
        "seed = 0\n",
        "\n",
        "def init_params(layers_size, parent_key):\n",
        "\n",
        "  params = []\n",
        "  # From a parent key, generate different keys for each layer\n",
        "  keys = jax.random.split(parent_key, num=len(layers_size)-1) # understand better what split does/why is it useful\n",
        "\n",
        "  # Set sizes of layers in the model (inputs to layers and outputs to layers)\n",
        "  in_layers = layers_size[:-1]\n",
        "  out_of_layers = layers_size[1:]\n",
        "\n",
        "  for in_layer, out_of_layer, key in zip(in_layers, out_of_layers, keys):\n",
        "    weights_key, bias_key = jax.random.split(key)\n",
        "\n",
        "    # Initialize params to be an array [weights, bias]\n",
        "    #where the weights are n rows (number of neurons, outputs to layer, inputs to next layer) x m columns (number of inputs to layer, outputs from previous layer/features)\n",
        "    #bias are n rows x 1 column (one bias per neuron)\n",
        "    params.append([\n",
        "        0.01*jax.random.normal(weights_key, shape=(out_of_layer, in_layer)) # n x m matrix\n",
        "        ,0.01*jax.random.normal(bias_key, shape=(out_of_layer,)) # vector with n values\n",
        "    ])\n",
        "\n",
        "  return params\n",
        "key3 = jax.random.PRNGKey(seed)\n",
        "params3 = init_params([3,10,2], key3)\n",
        "\n",
        "# Go through each layer of the initialized params and check if the shape is the expected one\n",
        "jax.tree_map(lambda x: x.shape, params3)"
      ],
      "metadata": {
        "colab": {
          "base_uri": "https://localhost:8080/"
        },
        "id": "oUB1MviT959t",
        "outputId": "7c2fbde0-c123-4323-9c7d-26843439cb02"
      },
      "execution_count": 102,
      "outputs": [
        {
          "output_type": "execute_result",
          "data": {
            "text/plain": [
              "[[(10, 3), (10,)], [(2, 10), (2,)]]"
            ]
          },
          "metadata": {},
          "execution_count": 102
        }
      ]
    },
    {
      "cell_type": "code",
      "source": [
        "# Transform tensors to np arrays in dataloaders, tensors not compatible with JAX\n",
        "def custom_collate_fn(batch):\n",
        "    transposed_data = list(zip(*batch))\n",
        "\n",
        "    labels = np.stack(transposed_data[1])\n",
        "    features = np.stack(transposed_data[0])\n",
        "\n",
        "    return features, labels"
      ],
      "metadata": {
        "id": "qEbg5MIHHsnb"
      },
      "execution_count": 103,
      "outputs": []
    },
    {
      "cell_type": "code",
      "source": [
        "# Convert pd.dataframes to tensors\n",
        "train_x3 = torch.tensor(df_x2.values, dtype=torch.float32)[:split]\n",
        "train_y3 = torch.squeeze(torch.tensor(df_y2.values, dtype=torch.float32)[:split])\n",
        "\n",
        "test_x3 = torch.tensor(df_x2.values, dtype=torch.float32)[split:]\n",
        "test_y3 = torch.squeeze(torch.tensor(df_y2.values, dtype=torch.float32)[split:])\n",
        "\n",
        "train_x3.size(), train_y3.size(), test_x3.size(), test_y3.size()"
      ],
      "metadata": {
        "colab": {
          "base_uri": "https://localhost:8080/"
        },
        "id": "UhpqEkjXFcX5",
        "outputId": "875e44e7-d89b-4cfe-970f-8ecf0c0a234a"
      },
      "execution_count": 104,
      "outputs": [
        {
          "output_type": "execute_result",
          "data": {
            "text/plain": [
              "(torch.Size([170884, 3]),\n",
              " torch.Size([170884]),\n",
              " torch.Size([113923, 3]),\n",
              " torch.Size([113923]))"
            ]
          },
          "metadata": {},
          "execution_count": 104
        }
      ]
    },
    {
      "cell_type": "code",
      "source": [
        "batch_size = 2\n",
        "# Create train and test dataloaders\n",
        "train3 = [train_x3, train_y3]\n",
        "train_dset3 = CustomTensorDataset(train3)\n",
        "train_dl3 = DataLoader(train_dset3, batch_size=batch_size, collate_fn=custom_collate_fn, shuffle=True)\n",
        "\n",
        "test3 = [test_x3, test_y3] # same data as in last model\n",
        "test_dset3 = CustomTensorDataset(test3)\n",
        "test_dl3 = DataLoader(test_dset3, batch_size=batch_size, collate_fn=custom_collate_fn, shuffle=False)\n",
        "\n",
        "train_features = jnp.array(train_dset3.tensors[0]).reshape(len(train_dset3), -1)\n",
        "train_lbls = jnp.array(train_dset3.tensors[1])\n",
        "\n",
        "test_features = jnp.array(test_dset3.tensors[0]).reshape(len(test_dset3), -1)\n",
        "test_lbls = jnp.array(test_dset3.tensors[1])\n",
        "\n",
        "# Print shapes of each batch to see if it matches up with the expected shapes based on our batch size\n",
        "for x, y in train_dl3:\n",
        "  print(x.shape)\n",
        "  print(y.shape)\n",
        "  break\n",
        "print('----')\n",
        "for x, y in test_dl3:\n",
        "  print(x.shape)\n",
        "  print(y.shape)\n",
        "  break"
      ],
      "metadata": {
        "colab": {
          "base_uri": "https://localhost:8080/"
        },
        "id": "ioFiq1U9NFWm",
        "outputId": "0461c8c4-18dd-4ba1-9aca-6dbb99921ba6"
      },
      "execution_count": 105,
      "outputs": [
        {
          "output_type": "stream",
          "name": "stdout",
          "text": [
            "(2, 3)\n",
            "(2,)\n",
            "----\n",
            "(2, 3)\n",
            "(2,)\n"
          ]
        }
      ]
    },
    {
      "cell_type": "code",
      "source": [
        "# Create a function to predict using the initialized neural net\n",
        "def predict(params, x):\n",
        "  hiddens = params[:-1] # take all hidden layers of the model (only one in our case)\n",
        "  \n",
        "  # Create a variable that will forward through the network (except the final layer) and store its output, based on an initial input\n",
        "  output_x = x\n",
        "  # Forward pass of x into the hidden layers\n",
        "  for w, b in hiddens:\n",
        "    output_x = jax.nn.sigmoid(jnp.dot(w, output_x) + b)\n",
        "  # at the end of this for loop, we have the inputs to the final layer of the network\n",
        "\n",
        "  # Forward pass output layer \n",
        "  #(done separately because often the final activation is different. if activation is the same, this operation can be implemented in the for loop above)\n",
        "  ws_last, b_last = params[-1]\n",
        "  final_output = jnp.dot(ws_last, output_x) + b_last\n",
        "\n",
        "  return final_output - logsumexp(final_output) # final_output\n",
        "\n",
        "batched_predict = vmap(predict, in_axes=(None, 0))\n",
        "\n",
        "print(batched_predict(params3, train_features).shape)"
      ],
      "metadata": {
        "colab": {
          "base_uri": "https://localhost:8080/"
        },
        "id": "j5bIorygOg9S",
        "outputId": "756e0d77-2646-4e9d-8b10-d6aab76d7932"
      },
      "execution_count": 106,
      "outputs": [
        {
          "output_type": "stream",
          "name": "stdout",
          "text": [
            "(170884, 2)\n"
          ]
        }
      ]
    },
    {
      "cell_type": "code",
      "source": [
        "# Loss function\n",
        "def loss_fn(params, features, gt_labels):\n",
        "  \n",
        "    predictions = batched_predict(params, features)\n",
        "    return -jnp.mean(predictions * gt_labels)\n",
        "\n",
        "\n",
        "for fs, lbls in test_dl3:\n",
        "  print(loss_fn(params3, fs, lbls))\n",
        "  break"
      ],
      "metadata": {
        "colab": {
          "base_uri": "https://localhost:8080/"
        },
        "id": "F1rCcjCUMf8H",
        "outputId": "fc793397-5a75-492e-9bf3-45c33ad2d5dc"
      },
      "execution_count": 107,
      "outputs": [
        {
          "output_type": "stream",
          "name": "stdout",
          "text": [
            "-0.0\n"
          ]
        }
      ]
    },
    {
      "cell_type": "code",
      "source": [
        "# Update function\n",
        "@jit # jit causes the function inputs to change type\n",
        "def update(params, features, labels, lr=0.01):\n",
        "  loss, grads = value_and_grad(loss_fn)(params, features, labels)\n",
        "\n",
        "  return loss, jax.tree_map(lambda p, g: p - lr*g, params, grads)"
      ],
      "metadata": {
        "id": "gl20By9uPXqW"
      },
      "execution_count": 108,
      "outputs": []
    },
    {
      "cell_type": "code",
      "source": [
        "# Accuracy function\n",
        "def accuracy(params, ds_features, ds_labels):\n",
        "  # Return accuracy of model's (params3) predictions based on test dataloader\n",
        "  pred_classes = jnp.argmax(batched_predict(params, ds_features), axis=1)\n",
        "  return jnp.mean(ds_labels == pred_classes)\n",
        "\n",
        "accuracy(params3, train_features, train_lbls)"
      ],
      "metadata": {
        "colab": {
          "base_uri": "https://localhost:8080/"
        },
        "id": "1BwJm3t8NHUt",
        "outputId": "3c251430-ff5a-45dc-9cc8-71d0ca03414c"
      },
      "execution_count": 109,
      "outputs": [
        {
          "output_type": "execute_result",
          "data": {
            "text/plain": [
              "DeviceArray(0.99789333, dtype=float32)"
            ]
          },
          "metadata": {},
          "execution_count": 109
        }
      ]
    },
    {
      "cell_type": "code",
      "source": [
        "jnp.sum(jnp.argmax(batched_predict(params3, train_features), axis=1))"
      ],
      "metadata": {
        "colab": {
          "base_uri": "https://localhost:8080/"
        },
        "id": "2Q09QbZTSFmq",
        "outputId": "1598090f-b99c-41ab-bff9-133d4c4e2363"
      },
      "execution_count": 110,
      "outputs": [
        {
          "output_type": "execute_result",
          "data": {
            "text/plain": [
              "DeviceArray(0, dtype=int32)"
            ]
          },
          "metadata": {},
          "execution_count": 110
        }
      ]
    },
    {
      "cell_type": "code",
      "source": [
        "# Train model\n",
        "n_epochs = 50\n",
        "\n",
        "new_params = init_params([3,10,2], key3)\n",
        "\n",
        "print(f'Pre-training: test acc = {accuracy(new_params, test_features, test_lbls)}')\n",
        "start3 = time.time()\n",
        "for epoch in range(n_epochs):\n",
        "  running_loss = 0\n",
        "  for i, (features, labels) in enumerate(train_dl3):\n",
        "\n",
        "    gt_labels = jax.nn.one_hot(labels, 2)\n",
        "    loss, new_params = update(new_params, features, gt_labels)\n",
        "    running_loss += loss\n",
        "    \n",
        "  print(f'Epoch {epoch+1}, test acc = {accuracy(new_params, test_features, test_lbls)}, running loss = {running_loss}')\n",
        "\n",
        "end3 = time.time()\n",
        "\n",
        "print(end3 - start3)"
      ],
      "metadata": {
        "colab": {
          "base_uri": "https://localhost:8080/"
        },
        "id": "VgNZChUuj3O8",
        "outputId": "fa84795f-667e-4968-8d06-f842359488d5"
      },
      "execution_count": 111,
      "outputs": [
        {
          "output_type": "stream",
          "name": "stdout",
          "text": [
            "Pre-training: test acc = 0.9988413453102112\n",
            "Epoch 1, test acc = 0.9988413453102112, running loss = 498.7337951660156\n",
            "Epoch 2, test acc = 0.9988413453102112, running loss = 384.96795654296875\n",
            "Epoch 3, test acc = 0.9988413453102112, running loss = 376.65966796875\n",
            "Epoch 4, test acc = 0.9988413453102112, running loss = 367.9631652832031\n",
            "Epoch 5, test acc = 0.9988413453102112, running loss = 360.4655456542969\n",
            "Epoch 6, test acc = 0.9988413453102112, running loss = 353.675537109375\n",
            "Epoch 7, test acc = 0.9988413453102112, running loss = 348.84661865234375\n",
            "Epoch 8, test acc = 0.9988413453102112, running loss = 344.2140808105469\n",
            "Epoch 9, test acc = 0.9988325834274292, running loss = 342.33343505859375\n",
            "Epoch 10, test acc = 0.9988238215446472, running loss = 339.88287353515625\n",
            "Epoch 11, test acc = 0.9988150000572205, running loss = 337.918701171875\n",
            "Epoch 12, test acc = 0.9988150000572205, running loss = 336.05230712890625\n",
            "Epoch 13, test acc = 0.9987974762916565, running loss = 335.3132629394531\n",
            "Epoch 14, test acc = 0.9988150000572205, running loss = 333.49713134765625\n",
            "Epoch 15, test acc = 0.9988150000572205, running loss = 333.0069885253906\n",
            "Epoch 16, test acc = 0.9988238215446472, running loss = 332.0734558105469\n",
            "Epoch 17, test acc = 0.9988325834274292, running loss = 331.6549072265625\n",
            "Epoch 18, test acc = 0.9988501071929932, running loss = 331.0165100097656\n",
            "Epoch 19, test acc = 0.9988589286804199, running loss = 330.5497741699219\n",
            "Epoch 20, test acc = 0.9988589286804199, running loss = 330.0381774902344\n",
            "Epoch 21, test acc = 0.9989203214645386, running loss = 329.1832580566406\n",
            "Epoch 22, test acc = 0.9988589286804199, running loss = 329.2859802246094\n",
            "Epoch 23, test acc = 0.9988676905632019, running loss = 328.99212646484375\n",
            "Epoch 24, test acc = 0.9988676905632019, running loss = 328.94146728515625\n",
            "Epoch 25, test acc = 0.9988764524459839, running loss = 328.6673583984375\n",
            "Epoch 26, test acc = 0.9989379048347473, running loss = 328.6588134765625\n",
            "Epoch 27, test acc = 0.9988764524459839, running loss = 327.9818420410156\n",
            "Epoch 28, test acc = 0.9988764524459839, running loss = 328.0845031738281\n",
            "Epoch 29, test acc = 0.9989379048347473, running loss = 327.5455017089844\n",
            "Epoch 30, test acc = 0.9989203214645386, running loss = 327.15423583984375\n",
            "Epoch 31, test acc = 0.9989291429519653, running loss = 326.4771423339844\n",
            "Epoch 32, test acc = 0.9988764524459839, running loss = 326.8402099609375\n",
            "Epoch 33, test acc = 0.9989203214645386, running loss = 326.77874755859375\n",
            "Epoch 34, test acc = 0.9988764524459839, running loss = 326.61767578125\n",
            "Epoch 35, test acc = 0.9989291429519653, running loss = 326.39996337890625\n",
            "Epoch 36, test acc = 0.9989291429519653, running loss = 326.60040283203125\n",
            "Epoch 37, test acc = 0.9989379048347473, running loss = 326.7741394042969\n",
            "Epoch 38, test acc = 0.9989379048347473, running loss = 325.89288330078125\n",
            "Epoch 39, test acc = 0.9988852143287659, running loss = 325.954345703125\n",
            "Epoch 40, test acc = 0.9989291429519653, running loss = 325.4679870605469\n",
            "Epoch 41, test acc = 0.9989379048347473, running loss = 325.8975830078125\n",
            "Epoch 42, test acc = 0.9988940358161926, running loss = 325.5411376953125\n",
            "Epoch 43, test acc = 0.9989379048347473, running loss = 325.70745849609375\n",
            "Epoch 44, test acc = 0.9989379048347473, running loss = 325.6300964355469\n",
            "Epoch 45, test acc = 0.99897301197052, running loss = 324.74359130859375\n",
            "Epoch 46, test acc = 0.9989905953407288, running loss = 323.9165954589844\n",
            "Epoch 47, test acc = 0.998981773853302, running loss = 324.3627014160156\n",
            "Epoch 48, test acc = 0.998955488204956, running loss = 324.8586120605469\n",
            "Epoch 49, test acc = 0.998981773853302, running loss = 324.3406066894531\n",
            "Epoch 50, test acc = 0.9989905953407288, running loss = 325.4115905761719\n",
            "510.3781898021698\n"
          ]
        }
      ]
    },
    {
      "cell_type": "code",
      "source": [
        "def confusion_matrix(params, ds_features, ds_labels):\n",
        "\n",
        "  conf_matrix = {'TPs': 0, 'TNs': 0, 'FPs': 0, 'FNs': 0}\n",
        "  # Make predictions\n",
        "  pred_classes = jnp.argmax(batched_predict(params, ds_features), axis=1)\n",
        "  # print(pred_classes.sum())\n",
        "  # Count occurence of each type in confusion matrix\n",
        "  for i in range(len(pred_classes)):\n",
        "    label = ds_labels[i]\n",
        "    pred = pred_classes[i]\n",
        "\n",
        "    if label == 1. and pred == 1: # truly predicted positive\n",
        "        conf_matrix['TPs'] += 1\n",
        "    elif label == 0. and pred == 1: # falsely predicted positive\n",
        "        conf_matrix['FPs'] += 1\n",
        "    elif label == 1. and pred == 0: # falsely predicted negative\n",
        "        conf_matrix['FNs'] += 1\n",
        "    elif label == 0. and pred == 0: # truly predicted negative\n",
        "        conf_matrix['TNs'] += 1\n",
        "\n",
        "    if i % 1000 == 0:\n",
        "      print(i)\n",
        "  \n",
        "  # Accuracy (what fraction does it get right) = (# TP + # TN) / Total\n",
        "  accuracy = (conf_matrix['TPs'] + conf_matrix['TNs']) / sum(conf_matrix.values())\n",
        "  print('ACCURACY: ', round(accuracy, 3))\n",
        "  print(' ')\n",
        "  \n",
        "  # Precision (when it says 1, how often is it right) = # TP / (# TP + # FP)\n",
        "  precision = conf_matrix['TPs'] / (conf_matrix['TPs'] + conf_matrix['FPs'])\n",
        "  print('PRECISION: ', round(precision, 3))\n",
        "  print(' ')\n",
        "  \n",
        "  # Recall (what fraction of 1s does it get right) = # TP / (# TP + # FN)\n",
        "  recall = conf_matrix['TPs'] / (conf_matrix['TPs'] + conf_matrix['FNs'])\n",
        "  print('RECALL: ', round(recall, 3))\n",
        "  print(' ')\n",
        "  \n",
        "  # False positive rate (what fraction of 0s are called 1s) = # FP / (# FP + # TN)\n",
        "  fprate = conf_matrix['FPs'] / (conf_matrix['FPs'] + conf_matrix['TNs'])\n",
        "  print('FALSE POSITIVE RATE: ', round(fprate, 3))\n",
        "  print(' ')\n",
        "  \n",
        "  # False negative rate (what fraction of 1s are called 0s) = # FN / (# TP + # FN)\n",
        "  fnrate = conf_matrix['FNs'] / (conf_matrix['TPs'] + conf_matrix['FNs'])\n",
        "  print('FALSE NEGATIVE RATE: ', round(fnrate, 3))\n",
        "\n",
        "  # Plot confusion matrix\n",
        "  matrix_arr = [[conf_matrix['TNs'], conf_matrix['FPs']], [conf_matrix['FNs'], conf_matrix['TPs']]]\n",
        "  plt.imshow(matrix_arr, cmap = 'coolwarm', alpha = 0.5)\n",
        "  plt.xticks(np.arange(0, 2), ['0', '1'])\n",
        "  plt.yticks(np.arange(0, 2), ['0', '1'])\n",
        "\n",
        "  plt.text(-0.1, 0, matrix_arr[0][0], fontsize = 14) # TNs\n",
        "  plt.text(0.95, 0, matrix_arr[0][1], fontsize = 14) # FPs\n",
        "  plt.text(-0.1, 1, matrix_arr[1][0], fontsize = 14) # FNs\n",
        "  plt.text(0.95, 1, matrix_arr[1][1], fontsize = 14) # TPs\n",
        "\n",
        "  plt.xlabel('Predictions', fontsize=18)\n",
        "  plt.ylabel('Actuals', fontsize=18)\n",
        "  plt.title('Confusion Matrix', fontsize=18)\n",
        "  plt.show()\n",
        "\n",
        "  return conf_matrix\n",
        "\n",
        "confusion_matrix(new_params, test_features, test_lbls)\n",
        "\n",
        "# How do I improve the performance of the confusion matrix?\n",
        "# Does the GPU optimize the confusion matrix implementation above? (where I go through each item one by one)"
      ],
      "metadata": {
        "colab": {
          "base_uri": "https://localhost:8080/",
          "height": 1000
        },
        "id": "Q24ao325aUGn",
        "outputId": "b7d90584-6268-4e6a-d9fa-8d4f538f40d0"
      },
      "execution_count": 113,
      "outputs": [
        {
          "output_type": "stream",
          "name": "stdout",
          "text": [
            "0\n",
            "1000\n",
            "2000\n",
            "3000\n",
            "4000\n",
            "5000\n",
            "6000\n",
            "7000\n",
            "8000\n",
            "9000\n",
            "10000\n",
            "11000\n",
            "12000\n",
            "13000\n",
            "14000\n",
            "15000\n",
            "16000\n",
            "17000\n",
            "18000\n",
            "19000\n",
            "20000\n",
            "21000\n",
            "22000\n",
            "23000\n",
            "24000\n",
            "25000\n",
            "26000\n",
            "27000\n",
            "28000\n",
            "29000\n",
            "30000\n",
            "31000\n",
            "32000\n",
            "33000\n",
            "34000\n",
            "35000\n",
            "36000\n",
            "37000\n",
            "38000\n",
            "39000\n",
            "40000\n",
            "41000\n",
            "42000\n",
            "43000\n",
            "44000\n",
            "45000\n",
            "46000\n",
            "47000\n",
            "48000\n",
            "49000\n",
            "50000\n",
            "51000\n",
            "52000\n",
            "53000\n",
            "54000\n",
            "55000\n",
            "56000\n",
            "57000\n",
            "58000\n",
            "59000\n",
            "60000\n",
            "61000\n",
            "62000\n",
            "63000\n",
            "64000\n",
            "65000\n",
            "66000\n",
            "67000\n",
            "68000\n",
            "69000\n",
            "70000\n",
            "71000\n",
            "72000\n",
            "73000\n",
            "74000\n",
            "75000\n",
            "76000\n",
            "77000\n",
            "78000\n",
            "79000\n",
            "80000\n",
            "81000\n",
            "82000\n",
            "83000\n",
            "84000\n",
            "85000\n",
            "86000\n",
            "87000\n",
            "88000\n",
            "89000\n",
            "90000\n",
            "91000\n",
            "92000\n",
            "93000\n",
            "94000\n",
            "95000\n",
            "96000\n",
            "97000\n",
            "98000\n",
            "99000\n",
            "100000\n",
            "101000\n",
            "102000\n",
            "103000\n",
            "104000\n",
            "105000\n",
            "106000\n",
            "107000\n",
            "108000\n",
            "109000\n",
            "110000\n",
            "111000\n",
            "112000\n",
            "113000\n",
            "ACCURACY:  0.999\n",
            " \n",
            "PRECISION:  0.84\n",
            " \n",
            "RECALL:  0.159\n",
            " \n",
            "FALSE POSITIVE RATE:  0.0\n",
            " \n",
            "FALSE NEGATIVE RATE:  0.841\n"
          ]
        },
        {
          "output_type": "display_data",
          "data": {
            "text/plain": [
              "<Figure size 432x288 with 1 Axes>"
            ],
            "image/png": "[encoded data removed]"
          },
          "metadata": {
            "needs_background": "light"
          }
        },
        {
          "output_type": "execute_result",
          "data": {
            "text/plain": [
              "{'TPs': 21, 'TNs': 113787, 'FPs': 4, 'FNs': 111}"
            ]
          },
          "metadata": {},
          "execution_count": 113
        }
      ]
    },
    {
      "cell_type": "code",
      "source": [],
      "metadata": {
        "id": "W5dUyLfah_G6"
      },
      "execution_count": 112,
      "outputs": []
    },
    {
      "cell_type": "markdown",
      "source": [
        "### Build JAX model for Titanic dataset"
      ],
      "metadata": {
        "id": "_4JcTyYFADQo"
      }
    },
    {
      "cell_type": "code",
      "source": [],
      "metadata": {
        "id": "lPpzPuuUZBhU"
      },
      "execution_count": 112,
      "outputs": []
    }
  ]
}