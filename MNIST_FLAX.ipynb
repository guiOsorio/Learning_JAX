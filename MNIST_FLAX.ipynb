{
  "nbformat": 4,
  "nbformat_minor": 0,
  "metadata": {
    "colab": {
      "provenance": [],
      "authorship_tag": "ABX9TyNyIxXLwWpy+9OTeRuMQFW4",
      "include_colab_link": true
    },
    "kernelspec": {
      "name": "python3",
      "display_name": "Python 3"
    },
    "language_info": {
      "name": "python"
    }
  },
  "cells": [
    {
      "cell_type": "markdown",
      "metadata": {
        "id": "view-in-github",
        "colab_type": "text"
      },
      "source": [
        "<a href=\"https://colab.research.google.com/github/guiOsorio/Learning_JAX/blob/master/MNIST_FLAX.ipynb\" target=\"_parent\"><img src=\"https://colab.research.google.com/assets/colab-badge.svg\" alt=\"Open In Colab\"/></a>"
      ]
    },
    {
      "cell_type": "markdown",
      "source": [
        "- FLAX tutorial: https://www.youtube.com/watch?v=5eUSmJvK8WA\n",
        "- FLAX docs batch norm: https://flax.readthedocs.io/en/latest/guides/batch_norm.html\n",
        "- Handling batch norm and dropout in FLAX: https://www.machinelearningnuggets.com/handling-state-in-jax-flax-batchnorm-and-dropout-layers/"
      ],
      "metadata": {
        "id": "2-CDOGTb_sMK"
      }
    },
    {
      "cell_type": "code",
      "execution_count": 42,
      "metadata": {
        "id": "DENcNyDx1E-G"
      },
      "outputs": [],
      "source": [
        "# Install Flax and JAX\n",
        "!pip install --upgrade -q \"jax[cuda11_cudnn805]\" -f https://storage.googleapis.com/jax-releases/jax_releases.html\n",
        "!pip install --upgrade -q git+https://github.com/google/flax.git"
      ]
    },
    {
      "cell_type": "code",
      "source": [
        "import jax\n",
        "from jax import lax, random, jit, numpy as jnp\n",
        "\n",
        "import flax\n",
        "from flax.core import freeze, unfreeze\n",
        "from flax import linen as nn\n",
        "from flax.training import train_state\n",
        "\n",
        "import optax\n",
        "\n",
        "from torchvision.datasets import MNIST\n",
        "from torch.utils.data import DataLoader\n",
        "\n",
        "import functools\n",
        "from typing import Sequence, Callable, Any, Optional\n",
        "\n",
        "import numpy as np\n",
        "import matplotlib.pyplot as plt"
      ],
      "metadata": {
        "id": "iAi5inG11L5Q"
      },
      "execution_count": 2,
      "outputs": []
    },
    {
      "cell_type": "code",
      "source": [
        "def custom_transform(x):\n",
        "    # A couple of modifications here compared to tutorial #3 since we're using a CNN\n",
        "    # Input: (28, 28) uint8 [0, 255] torch.Tensor, Output: (28, 28, 1) float32 [0, 1] np array\n",
        "    return np.expand_dims(np.array(x, dtype=np.float32), axis=2) / 255.\n",
        "\n",
        "def custom_collate_fn(batch):\n",
        "    \"\"\"Provides us with batches of numpy arrays and not PyTorch's tensors.\"\"\"\n",
        "    transposed_data = list(zip(*batch))\n",
        "\n",
        "    labels = np.array(transposed_data[1])\n",
        "    imgs = np.stack(transposed_data[0])\n",
        "\n",
        "    return imgs, labels\n",
        "\n",
        "mnist_img_size = (28, 28, 1)\n",
        "batch_size = 128\n",
        "\n",
        "train_dataset = MNIST(root='train_mnist', train=True, download=True, transform=custom_transform)\n",
        "test_dataset = MNIST(root='test_mnist', train=False, download=True, transform=custom_transform)\n",
        "\n",
        "train_loader = DataLoader(train_dataset, batch_size, shuffle=True, collate_fn=custom_collate_fn, drop_last=True)\n",
        "test_loader = DataLoader(test_dataset, batch_size, shuffle=False, collate_fn=custom_collate_fn, drop_last=True)\n",
        "\n",
        "# optimization - loading the whole dataset into memory\n",
        "train_images = jnp.array(train_dataset.data)\n",
        "train_lbls = jnp.array(train_dataset.targets)\n",
        "\n",
        "# np.expand_dims is to convert shape from (10000, 28, 28) -> (10000, 28, 28, 1)\n",
        "# We don't have to do this for training images because custom_transform does it for us.\n",
        "test_images = np.expand_dims(jnp.array(test_dataset.data), axis=3)\n",
        "test_lbls = jnp.array(test_dataset.targets)\n",
        "\n",
        "print(train_images.shape, train_lbls.shape)\n",
        "print('---')\n",
        "print(test_images.shape, test_lbls.shape)\n",
        "print('---')\n",
        "\n",
        "for img, lbl in train_loader:\n",
        "  print(img.shape)\n",
        "  print(lbl.shape)\n",
        "  break\n",
        "\n",
        "# try stacking features in train_loader"
      ],
      "metadata": {
        "colab": {
          "base_uri": "https://localhost:8080/"
        },
        "id": "WtzX-0EO1UB9",
        "outputId": "159fc46b-2b2b-40cb-8fda-09687ac6b623"
      },
      "execution_count": 41,
      "outputs": [
        {
          "output_type": "stream",
          "name": "stdout",
          "text": [
            "(60000, 28, 28) (60000,)\n",
            "---\n",
            "(10000, 28, 28, 1) (10000,)\n",
            "---\n",
            "(128, 28, 28, 1)\n",
            "(128,)\n"
          ]
        }
      ]
    },
    {
      "cell_type": "code",
      "source": [
        "# 1. Implementation with nn.compact\n",
        "class NN_compact(nn.Module):\n",
        "\n",
        "  @nn.compact\n",
        "  def __call__(self, x):\n",
        "    # Flatten x\n",
        "    x = x.reshape((x.shape[0], -1))\n",
        "\n",
        "    # Linear + relu\n",
        "    x = nn.Dense(features=100)(x)\n",
        "    x = nn.relu(x)\n",
        "\n",
        "    # Linear + relu\n",
        "    x = nn.Dense(features=256)(x)\n",
        "    x = nn.relu(x)\n",
        "\n",
        "    # Linear + softmax\n",
        "    x = nn.Dense(features=10)(x)\n",
        "    x = nn.log_softmax(x)\n",
        "    return x"
      ],
      "metadata": {
        "id": "Mg1OdIUC1wQo"
      },
      "execution_count": 4,
      "outputs": []
    },
    {
      "cell_type": "code",
      "source": [
        "# TRAINING\n",
        "\n",
        "# Compute loss and update - this will be computed many times, so it's best to jit it\n",
        "@jit\n",
        "def training_state(state, imgs, gt_labels):\n",
        "\n",
        "  def crossEntropy_loss(params):\n",
        "    logits = NN_compact().apply({'params': params}, imgs) # logits is a vector of probabilities predicted by the model (the highest value in the vector is the prediction)\n",
        "    one_hot_gt_labels = jax.nn.one_hot(gt_labels, num_classes=10) # one hot encoded vector of labels\n",
        "    # logits.shape and one_hot_gt_labels shape is (batch_size, num_classes)\n",
        "    loss = -jnp.mean(jnp.sum(logits * one_hot_gt_labels, axis=-1)) # axis=-1 means sum over rows\n",
        "    return loss, logits\n",
        "  \n",
        "  (loss, logits), grads = jax.value_and_grad(crossEntropy_loss, has_aux=True)(state.params)\n",
        "  state = state.apply_gradients(grads=grads) # update state params based on grads calculated\n",
        "\n",
        "  ## Accuracy\n",
        "  accuracy = jnp.mean(jnp.argmax(logits, -1) == gt_labels)\n",
        "  metrics = {\n",
        "      'loss': loss,\n",
        "      'accuracy': accuracy\n",
        "  }\n",
        "\n",
        "  return state, metrics\n",
        "\n",
        "# One epoch - need to add metrics part\n",
        "def train_one_epoch(state, dataloader):\n",
        "  batch_metrics = []\n",
        "  for cnt, (imgs, labels) in enumerate(dataloader):\n",
        "    state, metrics = training_state(state, imgs, labels)\n",
        "    batch_metrics.append(metrics)\n",
        "\n",
        "  batch_metrics_np = jax.device_get(batch_metrics)  # pull from the accelerator onto host (CPU)\n",
        "  epoch_metrics_np = {\n",
        "      k: np.mean([metrics[k] for metrics in batch_metrics_np])\n",
        "      for k in batch_metrics_np[0]\n",
        "  }\n",
        "\n",
        "  return state, epoch_metrics_np\n",
        "\n",
        "# Train State initializer\n",
        "def create_train_state(key, lr, momentum):\n",
        "  # Create model\n",
        "  NN = NN_compact()\n",
        "  # Initialize parameters\n",
        "  params = NN.init(key, jnp.ones([1, *mnist_img_size]))['params']\n",
        "  # Initialize optimizer\n",
        "  sgd_opt = optax.sgd(lr, momentum)\n",
        "\n",
        "  return train_state.TrainState.create(apply_fn=NN.apply, params=params, tx=sgd_opt)"
      ],
      "metadata": {
        "id": "Lu72PTJJ1XMM"
      },
      "execution_count": 5,
      "outputs": []
    },
    {
      "cell_type": "code",
      "source": [
        "# EVALUATION\n",
        "\n",
        "# Run one evaluation on test set\n",
        "@jit\n",
        "def eval_step(state, imgs, gt_labels):\n",
        "  logits = NN_compact().apply({'params': state.params}, imgs)\n",
        "  one_hot_gt_labels = jax.nn.one_hot(gt_labels, num_classes=10)\n",
        "  loss = -jnp.mean(jnp.sum(logits * one_hot_gt_labels, axis=-1))\n",
        "  accuracy = jnp.mean(jnp.argmax(logits, -1) == gt_labels)\n",
        "  metrics = {\n",
        "      'loss': loss,\n",
        "      'accuracy': accuracy\n",
        "  }\n",
        "  return metrics\n",
        "\n",
        "def evaluate_model(state, test_imgs, test_labels):\n",
        "  metrics = eval_step(state, test_imgs, test_labels)\n",
        "  metrics = jax.device_get(metrics) # pull from accelerator to CPU\n",
        "  metrics = jax.tree_map(lambda x: x.item(), metrics) # get scalar value from array\n",
        "  return metrics"
      ],
      "metadata": {
        "id": "2u4VboFb4xmu"
      },
      "execution_count": 6,
      "outputs": []
    },
    {
      "cell_type": "code",
      "source": [
        "# FIT\n",
        "\n",
        "from flax.training import train_state\n",
        "seed = 0\n",
        "lr = 0.05\n",
        "momentum = 0.9\n",
        "n_epochs = 4\n",
        "\n",
        "train_state = create_train_state(jax.random.PRNGKey(seed), lr, momentum)\n",
        "\n",
        "for epoch in range(n_epochs):\n",
        "  print(f'EPOCH {epoch+1}')\n",
        "\n",
        "  train_state, train_metrics = train_one_epoch(train_state, train_loader)\n",
        "  print(f'Train accuracy: {train_metrics[\"accuracy\"]}, Train loss: {train_metrics[\"loss\"]}')\n",
        "\n",
        "  test_metrics = evaluate_model(train_state, test_images, test_lbls)\n",
        "  print(f'Test accuracy: {test_metrics[\"accuracy\"]}, Test loss: {test_metrics[\"loss\"]}')\n",
        "  print(' ')"
      ],
      "metadata": {
        "colab": {
          "base_uri": "https://localhost:8080/"
        },
        "id": "jhb0xuLh4xpJ",
        "outputId": "b8ad6c4f-7c34-40f1-946b-ff104eadfea4"
      },
      "execution_count": 7,
      "outputs": [
        {
          "output_type": "stream",
          "name": "stdout",
          "text": [
            "EPOCH 1\n",
            "Train accuracy: 0.906433641910553, Train loss: 0.31721505522727966\n",
            "Test accuracy: 0.9399999976158142, Test loss: 27.612911224365234\n",
            " \n",
            "EPOCH 2\n",
            "Train accuracy: 0.9628238677978516, Train loss: 0.12159242480993271\n",
            "Test accuracy: 0.9623000025749207, Test loss: 18.36846160888672\n",
            " \n",
            "EPOCH 3\n",
            "Train accuracy: 0.973557710647583, Train loss: 0.08559495955705643\n",
            "Test accuracy: 0.9633999466896057, Test loss: 19.467905044555664\n",
            " \n",
            "EPOCH 4\n",
            "Train accuracy: 0.9785490036010742, Train loss: 0.0676908865571022\n",
            "Test accuracy: 0.9696999788284302, Test loss: 14.696290016174316\n",
            " \n"
          ]
        }
      ]
    },
    {
      "cell_type": "code",
      "source": [
        "# 2. Implementation with setup()\n",
        "class NN_setup(nn.Module):\n",
        "\n",
        "  def setup(self):\n",
        "    self.dense1 = nn.Dense(features=100)\n",
        "    self.dense2 = nn.Dense(features=256)\n",
        "    self.dense3 = nn.Dense(features=10)\n",
        "\n",
        "  def __call__(self, x):\n",
        "    # Flatten x\n",
        "    x = x.reshape((x.shape[0], -1))\n",
        "    \n",
        "    # Linear + relu\n",
        "    x = self.dense1(x)\n",
        "    x = nn.relu(x)\n",
        "\n",
        "    # Linear + relu\n",
        "    x = self.dense2(x)\n",
        "    x = nn.relu(x)\n",
        "\n",
        "    # Linear + softmax\n",
        "    x = self.dense3(x)\n",
        "    x = nn.log_softmax(x)\n",
        "    return x"
      ],
      "metadata": {
        "id": "jUUycIHh4xsB"
      },
      "execution_count": 8,
      "outputs": []
    },
    {
      "cell_type": "code",
      "source": [
        "# TRAINING 2\n",
        "\n",
        "# Compute loss and update - this will be computed many times, so it's best to jit it\n",
        "@jit\n",
        "def training_state(state, imgs, gt_labels):\n",
        "\n",
        "  def crossEntropy_loss(params):\n",
        "    logits = NN_setup().apply({'params': params}, imgs) # logits is a vector of probabilities predicted by the model (the highest value in the vector is the prediction)\n",
        "    one_hot_gt_labels = jax.nn.one_hot(gt_labels, num_classes=10) # one hot encoded vector of labels\n",
        "    # logits.shape and one_hot_gt_labels shape is (batch_size, num_classes)\n",
        "    loss = -jnp.mean(jnp.sum(logits * one_hot_gt_labels, axis=-1)) # axis=-1 means sum over rows\n",
        "    return loss, logits\n",
        "  \n",
        "  (loss, logits), grads = jax.value_and_grad(crossEntropy_loss, has_aux=True)(state.params)\n",
        "  state = state.apply_gradients(grads=grads) # update state params based on grads calculated\n",
        "\n",
        "  ## Accuracy\n",
        "  accuracy = jnp.mean(jnp.argmax(logits, -1) == gt_labels)\n",
        "  metrics = {\n",
        "      'loss': loss,\n",
        "      'accuracy': accuracy\n",
        "  }\n",
        "\n",
        "  return state, metrics\n",
        "\n",
        "# One epoch - need to add metrics part\n",
        "def train_one_epoch(state, dataloader):\n",
        "  batch_metrics = []\n",
        "  for cnt, (imgs, labels) in enumerate(dataloader):\n",
        "    state, metrics = training_state(state, imgs, labels)\n",
        "    batch_metrics.append(metrics)\n",
        "\n",
        "  batch_metrics_np = jax.device_get(batch_metrics)  # pull from the accelerator onto host (CPU)\n",
        "  epoch_metrics_np = {\n",
        "      k: np.mean([metrics[k] for metrics in batch_metrics_np])\n",
        "      for k in batch_metrics_np[0]\n",
        "  }\n",
        "\n",
        "  return state, epoch_metrics_np\n",
        "\n",
        "# Train State initializer\n",
        "def create_train_state(key, lr, momentum):\n",
        "  # Create model\n",
        "  NN = NN_setup()\n",
        "  # Initialize parameters\n",
        "  params = NN.init(key, jnp.ones([1, *mnist_img_size]))['params']\n",
        "  # Initialize optimizer\n",
        "  sgd_opt = optax.sgd(lr, momentum)\n",
        "\n",
        "  return train_state.TrainState.create(apply_fn=NN.apply, params=params, tx=sgd_opt)"
      ],
      "metadata": {
        "id": "cOioBzxy4xuo"
      },
      "execution_count": 9,
      "outputs": []
    },
    {
      "cell_type": "code",
      "source": [
        "# EVALUATION 2\n",
        "\n",
        "# Run one evaluation on test set\n",
        "@jit\n",
        "def eval_step(state, imgs, gt_labels):\n",
        "  logits = NN_setup().apply({'params': state.params}, imgs)\n",
        "  one_hot_gt_labels = jax.nn.one_hot(gt_labels, num_classes=10)\n",
        "  loss = -jnp.mean(jnp.sum(logits * one_hot_gt_labels, axis=-1))\n",
        "  accuracy = jnp.mean(jnp.argmax(logits, -1) == gt_labels)\n",
        "  metrics = {\n",
        "      'loss': loss,\n",
        "      'accuracy': accuracy\n",
        "  }\n",
        "  return metrics\n",
        "\n",
        "def evaluate_model(state, test_imgs, test_labels):\n",
        "  metrics = eval_step(state, test_imgs, test_labels)\n",
        "  metrics = jax.device_get(metrics) # pull from accelerator to CPU\n",
        "  metrics = jax.tree_map(lambda x: x.item(), metrics) # get scalar value from array\n",
        "  return metrics"
      ],
      "metadata": {
        "id": "TuTRCR7jdTpp"
      },
      "execution_count": 10,
      "outputs": []
    },
    {
      "cell_type": "code",
      "source": [
        "# FIT 2\n",
        "\n",
        "from flax.training import train_state\n",
        "seed = 0\n",
        "lr = 0.05\n",
        "momentum = 0.9\n",
        "n_epochs = 4\n",
        "\n",
        "train_state = create_train_state(jax.random.PRNGKey(seed), lr, momentum)\n",
        "\n",
        "for epoch in range(n_epochs):\n",
        "  print(f'EPOCH {epoch+1}')\n",
        "\n",
        "  train_state, train_metrics = train_one_epoch(train_state, train_loader)\n",
        "  print(f'Train accuracy: {train_metrics[\"accuracy\"]}, Train loss: {train_metrics[\"loss\"]}')\n",
        "\n",
        "  test_metrics = evaluate_model(train_state, test_images, test_lbls)\n",
        "  print(f'Test accuracy: {test_metrics[\"accuracy\"]}, Test loss: {test_metrics[\"loss\"]}')\n",
        "  print(' ')"
      ],
      "metadata": {
        "colab": {
          "base_uri": "https://localhost:8080/"
        },
        "id": "wbKPxQVsdWKf",
        "outputId": "fb9330d4-0ee0-4c80-d483-fd13a3a7377b"
      },
      "execution_count": 11,
      "outputs": [
        {
          "output_type": "stream",
          "name": "stdout",
          "text": [
            "EPOCH 1\n",
            "Train accuracy: 0.9054988026618958, Train loss: 0.3118467330932617\n",
            "Test accuracy: 0.9501000046730042, Test loss: 22.91973114013672\n",
            " \n",
            "EPOCH 2\n",
            "Train accuracy: 0.9642260670661926, Train loss: 0.11826032400131226\n",
            "Test accuracy: 0.9633999466896057, Test loss: 16.743993759155273\n",
            " \n",
            "EPOCH 3\n",
            "Train accuracy: 0.9731236696243286, Train loss: 0.08630014210939407\n",
            "Test accuracy: 0.9704999923706055, Test loss: 13.135159492492676\n",
            " \n",
            "EPOCH 4\n",
            "Train accuracy: 0.9802350401878357, Train loss: 0.06317774951457977\n",
            "Test accuracy: 0.973099946975708, Test loss: 13.711968421936035\n",
            " \n"
          ]
        }
      ]
    },
    {
      "cell_type": "code",
      "source": [
        "# 3. Implementation with batch norm, dropout and l2 regularization\n",
        "class NN_regularized(nn.Module):\n",
        "\n",
        "  @nn.compact \n",
        "  def __call__(self, x, train: bool):\n",
        "    # Flatten x\n",
        "    x = x.reshape((x.shape[0], -1))\n",
        "\n",
        "    # Linear + dropout + relu\n",
        "    x = nn.Dense(features=100)(x)\n",
        "    x = nn.Dropout(0.2, deterministic=not train)(x)\n",
        "    x = nn.relu(x)\n",
        "\n",
        "    # Linear + batch norm + relu\n",
        "    x = nn.Dense(features=256)(x)\n",
        "    x = nn.BatchNorm(use_running_average=not train)(x)\n",
        "    x = nn.relu(x)\n",
        "\n",
        "    # Linear + softmax\n",
        "    x = nn.Dense(features=10)(x)\n",
        "    x = nn.log_softmax(x)\n",
        "    return x"
      ],
      "metadata": {
        "id": "AQ5AIKyE4wdg"
      },
      "execution_count": 37,
      "outputs": []
    },
    {
      "cell_type": "code",
      "source": [
        "# TRAINING 3\n",
        "\n",
        "# Compute loss and update - this will be computed many times, so it's best to jit it\n",
        "@jit\n",
        "def training_state(state, imgs, gt_labels):\n",
        "\n",
        "  def crossEntropy_loss(params, batch_stats):\n",
        "    logits, updates = NN_regularized().apply({'params': params, 'batch_stats': batch_stats}, imgs, train=True, rngs={'dropout': jax.random.PRNGKey(0)}, mutable=['batch_stats'])\n",
        "    # logits is a vector of probabilities predicted by the model (the highest value in the vector is the prediction)\n",
        "    one_hot_gt_labels = jax.nn.one_hot(gt_labels, num_classes=10) # one hot encoded vector of labels\n",
        "    # logits.shape and one_hot_gt_labels shape is (batch_size, num_classes)\n",
        "    loss = -jnp.mean(jnp.sum(logits * one_hot_gt_labels, axis=-1)) # axis=-1 means sum over rows\n",
        "\n",
        "    # Add l2 regularization\n",
        "    alpha = 0.1\n",
        "    def l2_loss(weights, alpha):\n",
        "      return alpha * (weights ** 2).mean()\n",
        "    \n",
        "    loss += sum(\n",
        "        l2_loss(w, alpha)\n",
        "        for w in jax.tree_util.tree_leaves(params)\n",
        "      )\n",
        "\n",
        "    return loss, (logits, updates)\n",
        "  \n",
        "  (loss, (logits, updates)), grads = jax.value_and_grad(crossEntropy_loss, argnums=0, has_aux=True)(state.params, state.batch_stats)\n",
        "  state = state.apply_gradients(grads=grads) # update state params based on grads calculated\n",
        "  state = state.replace(batch_stats=updates['batch_stats']) # update state batch_stats variables\n",
        "\n",
        "  ## Accuracy\n",
        "  accuracy = jnp.mean(jnp.argmax(logits, -1) == gt_labels)\n",
        "  metrics = {\n",
        "      'loss': loss,\n",
        "      'accuracy': accuracy\n",
        "  }\n",
        "\n",
        "  return state, metrics\n",
        "\n",
        "# One epoch - need to add metrics part\n",
        "def train_one_epoch(state, dataloader):\n",
        "  batch_metrics = []\n",
        "  for cnt, (imgs, labels) in enumerate(dataloader):\n",
        "    state, metrics = training_state(state, imgs, labels)\n",
        "    batch_metrics.append(metrics)\n",
        "\n",
        "  batch_metrics_np = jax.device_get(batch_metrics)  # pull from the accelerator onto host (CPU)\n",
        "  epoch_metrics_np = {\n",
        "      k: np.mean([metrics[k] for metrics in batch_metrics_np])\n",
        "      for k in batch_metrics_np[0]\n",
        "  }\n",
        "\n",
        "  return state, epoch_metrics_np\n",
        "\n",
        "def create_train_state(key, lr, momentum):\n",
        "  # Create model\n",
        "  NN = NN_regularized()\n",
        "  # Initialize parameters\n",
        "  variables = NN.init(key, jnp.ones([1, *mnist_img_size]), train=False)\n",
        "  params = variables['params']\n",
        "  batch_stats_v = variables['batch_stats']\n",
        "  del variables\n",
        "\n",
        "  class TrainState_stats(train_state.TrainState):\n",
        "    batch_stats: Any\n",
        "\n",
        "  state = TrainState_stats.create(\n",
        "    apply_fn=NN.apply,\n",
        "    params=params,\n",
        "    batch_stats=batch_stats_v,\n",
        "    tx=optax.sgd(lr, momentum)\n",
        "  )\n",
        "\n",
        "  return state"
      ],
      "metadata": {
        "id": "z1AN-4uKfXNw"
      },
      "execution_count": 38,
      "outputs": []
    },
    {
      "cell_type": "code",
      "source": [
        "# EVALUATION 3\n",
        "\n",
        "# Run one evaluation on test set\n",
        "@jit\n",
        "def eval_step(state, imgs, gt_labels):\n",
        "  logits = NN_regularized().apply({'params': state.params, 'batch_stats': state.batch_stats}, imgs, rngs={'dropout': jax.random.PRNGKey(0)}, train=False)\n",
        "  one_hot_gt_labels = jax.nn.one_hot(gt_labels, num_classes=10)\n",
        "  loss = -jnp.mean(jnp.sum(logits * one_hot_gt_labels, axis=-1))\n",
        "  accuracy = jnp.mean(jnp.argmax(logits, -1) == gt_labels)\n",
        "  metrics = {\n",
        "      'loss': loss,\n",
        "      'accuracy': accuracy\n",
        "  }\n",
        "  return metrics\n",
        "\n",
        "def evaluate_model(state, test_imgs, test_labels):\n",
        "  metrics = eval_step(state, test_imgs, test_labels)\n",
        "  metrics = jax.device_get(metrics) # pull from accelerator to CPU\n",
        "  metrics = jax.tree_map(lambda x: x.item(), metrics) # get scalar value from array\n",
        "  return metrics"
      ],
      "metadata": {
        "id": "hCSQ5-36faO1"
      },
      "execution_count": 39,
      "outputs": []
    },
    {
      "cell_type": "code",
      "source": [
        "# FIT 3\n",
        "\n",
        "from flax.training import train_state\n",
        "seed = 0\n",
        "lr = 0.01 # lower learning rate with batch norm\n",
        "momentum = 0.9\n",
        "n_epochs = 4\n",
        "\n",
        "train_state = create_train_state(jax.random.PRNGKey(seed), lr, momentum)\n",
        "\n",
        "for epoch in range(n_epochs):\n",
        "  print(f'EPOCH {epoch+1}')\n",
        "\n",
        "  train_state, train_metrics = train_one_epoch(train_state, train_loader)\n",
        "  print(f'Train accuracy: {train_metrics[\"accuracy\"]}, Train loss: {train_metrics[\"loss\"]}')\n",
        "\n",
        "  test_metrics = evaluate_model(train_state, test_images, test_lbls)\n",
        "  print(f'Test accuracy: {test_metrics[\"accuracy\"]}, Test loss: {test_metrics[\"loss\"]}')\n",
        "  print(' ')"
      ],
      "metadata": {
        "colab": {
          "base_uri": "https://localhost:8080/"
        },
        "id": "d27uKJ3afdsx",
        "outputId": "ead0b546-c3bc-468f-887e-210150a74e80"
      },
      "execution_count": 40,
      "outputs": [
        {
          "output_type": "stream",
          "name": "stdout",
          "text": [
            "EPOCH 1\n",
            "Train accuracy: 0.8878037929534912, Train loss: 0.4799583852291107\n",
            "Test accuracy: 0.9462999701499939, Test loss: 17.95692253112793\n",
            " \n",
            "EPOCH 2\n",
            "Train accuracy: 0.9450287222862244, Train loss: 0.2851300835609436\n",
            "Test accuracy: 0.9542999863624573, Test loss: 16.844005584716797\n",
            " \n",
            "EPOCH 3\n",
            "Train accuracy: 0.9553952813148499, Train loss: 0.24183198809623718\n",
            "Test accuracy: 0.9557999968528748, Test loss: 16.11273765563965\n",
            " \n",
            "EPOCH 4\n",
            "Train accuracy: 0.961838960647583, Train loss: 0.21531632542610168\n",
            "Test accuracy: 0.965999960899353, Test loss: 12.203691482543945\n",
            " \n"
          ]
        }
      ]
    }
  ]
}