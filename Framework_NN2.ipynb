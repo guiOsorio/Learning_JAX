{
  "nbformat": 4,
  "nbformat_minor": 0,
  "metadata": {
    "colab": {
      "provenance": [],
      "mount_file_id": "10A--SGAMbL0v0kdr2kSdov20WsVkc6rQ",
      "authorship_tag": "ABX9TyMgmUIXVHaZWHVfsGMv3FnC",
      "include_colab_link": true
    },
    "kernelspec": {
      "name": "python3",
      "display_name": "Python 3"
    },
    "language_info": {
      "name": "python"
    },
    "gpuClass": "standard"
  },
  "cells": [
    {
      "cell_type": "markdown",
      "metadata": {
        "id": "view-in-github",
        "colab_type": "text"
      },
      "source": [
        "<a href=\"https://colab.research.google.com/github/guiOsorio/Learning_JAX/blob/master/Framework_NN2.ipynb\" target=\"_parent\"><img src=\"https://colab.research.google.com/assets/colab-badge.svg\" alt=\"Open In Colab\"/></a>"
      ]
    },
    {
      "cell_type": "code",
      "execution_count": 1,
      "metadata": {
        "id": "Bg6tv5i8ucnK"
      },
      "outputs": [],
      "source": [
        "import numpy as np\n",
        "import jax.numpy as jnp\n",
        "from jax import grad, jit, vmap, grad, value_and_grad\n",
        "from jax import random\n",
        "import jax\n",
        "from jax.scipy.special import logsumexp\n",
        "\n",
        "import torch\n",
        "import torch.nn as nn\n",
        "import torch.nn.functional as F\n",
        "import torch.optim as optim\n",
        "from torch.utils.data import Dataset, DataLoader\n",
        "\n",
        "import time\n",
        "import matplotlib.pyplot as plt\n",
        "import pandas as pd"
      ]
    },
    {
      "cell_type": "markdown",
      "source": [
        "### Train basic PyTorch model"
      ],
      "metadata": {
        "id": "2d8inhepA0Ip"
      }
    },
    {
      "cell_type": "code",
      "source": [
        "class CustomTensorDataset(Dataset):\n",
        "  def __init__(self, dataset):\n",
        "    [data_X, data_y] = dataset\n",
        "    X_tensor, y_tensor = data_X, data_y\n",
        "    tensors = (X_tensor, y_tensor)\n",
        "    assert all(tensors[0].size(0) == tensor.size(0) for tensor in tensors)\n",
        "    self.tensors = tensors\n",
        "\n",
        "  def __getitem__(self, index):\n",
        "    x = self.tensors[0][index]\n",
        "\n",
        "    y = self.tensors[1][index]\n",
        "\n",
        "    return x, y\n",
        "\n",
        "  def __len__(self):\n",
        "    return self.tensors[0].size(0)"
      ],
      "metadata": {
        "id": "5FnanvBha5TI"
      },
      "execution_count": 2,
      "outputs": []
    },
    {
      "cell_type": "code",
      "source": [
        "train_x = torch.tensor([\n",
        "    [2.7810836,2.550537003],\n",
        "    [1.465489372,2.362125076],\n",
        "    [3.396561688,4.400293529],\n",
        "    [1.38807019,1.850220317],\n",
        "    [3.06407232,3.005305973],\n",
        "    [7.627531214,2.759262235],\n",
        "    [5.332441248,2.088626775],\n",
        "    [6.922596716,1.77106367],\n",
        "    [8.675418651,-0.242068655],\n",
        "    [7.673756466,3.508563011]\n",
        "])\n",
        "\n",
        "train_y = torch.tensor([0., 0., 0., 0., 0., 1., 1., 1., 1., 1.])\n",
        "\n",
        "train_x.shape,train_y.shape"
      ],
      "metadata": {
        "colab": {
          "base_uri": "https://localhost:8080/"
        },
        "id": "IGct23YKnCOt",
        "outputId": "fa8117e9-23cf-4394-fcb2-032e79dc71ca"
      },
      "execution_count": 3,
      "outputs": [
        {
          "output_type": "execute_result",
          "data": {
            "text/plain": [
              "(torch.Size([10, 2]), torch.Size([10]))"
            ]
          },
          "metadata": {},
          "execution_count": 3
        }
      ]
    },
    {
      "cell_type": "code",
      "source": [
        "# Define model variables\n",
        "input_size = train_x.size()[1]\n",
        "hidden_size = 1 # number of neurons in hidden layer\n",
        "output_size = 2 # binary = 2 possible solutions\n",
        "\n",
        "model = nn.Sequential(nn.Linear(input_size, hidden_size)\n",
        "                      ,nn.Sigmoid()\n",
        "                      ,nn.Linear(hidden_size, output_size))\n",
        "                      # ,nn.Sigmoid()) #why does adding sigmoid mess up the output?\n",
        "\n",
        "model"
      ],
      "metadata": {
        "colab": {
          "base_uri": "https://localhost:8080/"
        },
        "id": "IaHWQi7LplpJ",
        "outputId": "4d270610-6644-4570-c302-4bdf0b468e3c"
      },
      "execution_count": 4,
      "outputs": [
        {
          "output_type": "execute_result",
          "data": {
            "text/plain": [
              "Sequential(\n",
              "  (0): Linear(in_features=2, out_features=1, bias=True)\n",
              "  (1): Sigmoid()\n",
              "  (2): Linear(in_features=1, out_features=2, bias=True)\n",
              ")"
            ]
          },
          "metadata": {},
          "execution_count": 4
        }
      ]
    },
    {
      "cell_type": "code",
      "source": [
        "train = [train_x, train_y]\n",
        "train_dset = CustomTensorDataset(train)\n",
        "dataloader = DataLoader(train_dset, shuffle=True, num_workers=2)\n",
        "# Define variables for training\n",
        "loss = nn.MSELoss() # mean squared error\n",
        "optimizer = optim.SGD(model.parameters(), lr=0.01)"
      ],
      "metadata": {
        "id": "wzPE-Kpftn8-"
      },
      "execution_count": 5,
      "outputs": []
    },
    {
      "cell_type": "code",
      "source": [
        "losses = []\n",
        "start = time.time()\n",
        "\n",
        "# Train PyTorch model\n",
        "for epoch in range(100):\n",
        "  running_loss = 0\n",
        "  for data in dataloader:\n",
        "    x, y = data\n",
        "    optimizer.zero_grad() # reset gradients\n",
        "    loss_val = loss(model(x), y) # calculate loss\n",
        "    loss_val.backward() # calculate gradients\n",
        "    optimizer.step() # update weights\n",
        "    running_loss += loss_val.item()\n",
        "  losses.append(running_loss)\n",
        "end = time.time()\n",
        "\n",
        "print(end-start)"
      ],
      "metadata": {
        "colab": {
          "base_uri": "https://localhost:8080/"
        },
        "id": "8v8j-xG7vsSV",
        "outputId": "5aec1179-2ca6-482b-a1f2-d3ac24bd20a1"
      },
      "execution_count": 6,
      "outputs": [
        {
          "output_type": "stream",
          "name": "stderr",
          "text": [
            "/usr/local/lib/python3.7/dist-packages/torch/nn/modules/loss.py:530: UserWarning: Using a target size (torch.Size([1])) that is different to the input size (torch.Size([1, 2])). This will likely lead to incorrect results due to broadcasting. Please ensure they have the same size.\n",
            "  return F.mse_loss(input, target, reduction=self.reduction)\n"
          ]
        },
        {
          "output_type": "stream",
          "name": "stdout",
          "text": [
            "11.909357070922852\n"
          ]
        }
      ]
    },
    {
      "cell_type": "code",
      "source": [
        "plt.plot(losses)"
      ],
      "metadata": {
        "colab": {
          "base_uri": "https://localhost:8080/",
          "height": 284
        },
        "id": "E1wkqBUe4UxW",
        "outputId": "03f1f381-3bac-4a17-d9d9-d609205a9021"
      },
      "execution_count": 7,
      "outputs": [
        {
          "output_type": "execute_result",
          "data": {
            "text/plain": [
              "[<matplotlib.lines.Line2D at 0x7f3baf2b67d0>]"
            ]
          },
          "metadata": {},
          "execution_count": 7
        },
        {
          "output_type": "display_data",
          "data": {
            "text/plain": [
              "<Figure size 432x288 with 1 Axes>"
            ],
            "image/png": "[encoded data removed]"
          },
          "metadata": {
            "needs_background": "light"
          }
        }
      ]
    },
    {
      "cell_type": "markdown",
      "source": [
        "### Test PyTorch model on credit card dataset, keep track of time of training and prediction"
      ],
      "metadata": {
        "id": "9OM2YmugArXd"
      }
    },
    {
      "cell_type": "code",
      "source": [
        "# Load data\n",
        "url = 'https://raw.githubusercontent.com/nsethi31/Kaggle-Data-Credit-Card-Fraud-Detection/master/creditcard.csv'\n",
        "df = pd.read_csv(url)\n",
        "df.head()"
      ],
      "metadata": {
        "colab": {
          "base_uri": "https://localhost:8080/",
          "height": 236
        },
        "id": "idulwBTJrCzN",
        "outputId": "69c036e1-6bf8-4020-c32f-d526416979d2"
      },
      "execution_count": 8,
      "outputs": [
        {
          "output_type": "execute_result",
          "data": {
            "text/plain": [
              "   Time        V1        V2        V3        V4        V5        V6        V7  \\\n",
              "0   0.0 -1.359807 -0.072781  2.536347  1.378155 -0.338321  0.462388  0.239599   \n",
              "1   0.0  1.191857  0.266151  0.166480  0.448154  0.060018 -0.082361 -0.078803   \n",
              "2   1.0 -1.358354 -1.340163  1.773209  0.379780 -0.503198  1.800499  0.791461   \n",
              "3   1.0 -0.966272 -0.185226  1.792993 -0.863291 -0.010309  1.247203  0.237609   \n",
              "4   2.0 -1.158233  0.877737  1.548718  0.403034 -0.407193  0.095921  0.592941   \n",
              "\n",
              "         V8        V9  ...       V21       V22       V23       V24       V25  \\\n",
              "0  0.098698  0.363787  ... -0.018307  0.277838 -0.110474  0.066928  0.128539   \n",
              "1  0.085102 -0.255425  ... -0.225775 -0.638672  0.101288 -0.339846  0.167170   \n",
              "2  0.247676 -1.514654  ...  0.247998  0.771679  0.909412 -0.689281 -0.327642   \n",
              "3  0.377436 -1.387024  ... -0.108300  0.005274 -0.190321 -1.175575  0.647376   \n",
              "4 -0.270533  0.817739  ... -0.009431  0.798278 -0.137458  0.141267 -0.206010   \n",
              "\n",
              "        V26       V27       V28  Amount  Class  \n",
              "0 -0.189115  0.133558 -0.021053  149.62      0  \n",
              "1  0.125895 -0.008983  0.014724    2.69      0  \n",
              "2 -0.139097 -0.055353 -0.059752  378.66      0  \n",
              "3 -0.221929  0.062723  0.061458  123.50      0  \n",
              "4  0.502292  0.219422  0.215153   69.99      0  \n",
              "\n",
              "[5 rows x 31 columns]"
            ],
            "text/html": [
              "\n",
              "  <div id=\"df-17afb2b4-37e0-4256-aa53-82d4cec3353b\">\n",
              "    <div class=\"colab-df-container\">\n",
              "      <div>\n",
              "<style scoped>\n",
              "    .dataframe tbody tr th:only-of-type {\n",
              "        vertical-align: middle;\n",
              "    }\n",
              "\n",
              "    .dataframe tbody tr th {\n",
              "        vertical-align: top;\n",
              "    }\n",
              "\n",
              "    .dataframe thead th {\n",
              "        text-align: right;\n",
              "    }\n",
              "</style>\n",
              "<table border=\"1\" class=\"dataframe\">\n",
              "  <thead>\n",
              "    <tr style=\"text-align: right;\">\n",
              "      <th></th>\n",
              "      <th>Time</th>\n",
              "      <th>V1</th>\n",
              "      <th>V2</th>\n",
              "      <th>V3</th>\n",
              "      <th>V4</th>\n",
              "      <th>V5</th>\n",
              "      <th>V6</th>\n",
              "      <th>V7</th>\n",
              "      <th>V8</th>\n",
              "      <th>V9</th>\n",
              "      <th>...</th>\n",
              "      <th>V21</th>\n",
              "      <th>V22</th>\n",
              "      <th>V23</th>\n",
              "      <th>V24</th>\n",
              "      <th>V25</th>\n",
              "      <th>V26</th>\n",
              "      <th>V27</th>\n",
              "      <th>V28</th>\n",
              "      <th>Amount</th>\n",
              "      <th>Class</th>\n",
              "    </tr>\n",
              "  </thead>\n",
              "  <tbody>\n",
              "    <tr>\n",
              "      <th>0</th>\n",
              "      <td>0.0</td>\n",
              "      <td>-1.359807</td>\n",
              "      <td>-0.072781</td>\n",
              "      <td>2.536347</td>\n",
              "      <td>1.378155</td>\n",
              "      <td>-0.338321</td>\n",
              "      <td>0.462388</td>\n",
              "      <td>0.239599</td>\n",
              "      <td>0.098698</td>\n",
              "      <td>0.363787</td>\n",
              "      <td>...</td>\n",
              "      <td>-0.018307</td>\n",
              "      <td>0.277838</td>\n",
              "      <td>-0.110474</td>\n",
              "      <td>0.066928</td>\n",
              "      <td>0.128539</td>\n",
              "      <td>-0.189115</td>\n",
              "      <td>0.133558</td>\n",
              "      <td>-0.021053</td>\n",
              "      <td>149.62</td>\n",
              "      <td>0</td>\n",
              "    </tr>\n",
              "    <tr>\n",
              "      <th>1</th>\n",
              "      <td>0.0</td>\n",
              "      <td>1.191857</td>\n",
              "      <td>0.266151</td>\n",
              "      <td>0.166480</td>\n",
              "      <td>0.448154</td>\n",
              "      <td>0.060018</td>\n",
              "      <td>-0.082361</td>\n",
              "      <td>-0.078803</td>\n",
              "      <td>0.085102</td>\n",
              "      <td>-0.255425</td>\n",
              "      <td>...</td>\n",
              "      <td>-0.225775</td>\n",
              "      <td>-0.638672</td>\n",
              "      <td>0.101288</td>\n",
              "      <td>-0.339846</td>\n",
              "      <td>0.167170</td>\n",
              "      <td>0.125895</td>\n",
              "      <td>-0.008983</td>\n",
              "      <td>0.014724</td>\n",
              "      <td>2.69</td>\n",
              "      <td>0</td>\n",
              "    </tr>\n",
              "    <tr>\n",
              "      <th>2</th>\n",
              "      <td>1.0</td>\n",
              "      <td>-1.358354</td>\n",
              "      <td>-1.340163</td>\n",
              "      <td>1.773209</td>\n",
              "      <td>0.379780</td>\n",
              "      <td>-0.503198</td>\n",
              "      <td>1.800499</td>\n",
              "      <td>0.791461</td>\n",
              "      <td>0.247676</td>\n",
              "      <td>-1.514654</td>\n",
              "      <td>...</td>\n",
              "      <td>0.247998</td>\n",
              "      <td>0.771679</td>\n",
              "      <td>0.909412</td>\n",
              "      <td>-0.689281</td>\n",
              "      <td>-0.327642</td>\n",
              "      <td>-0.139097</td>\n",
              "      <td>-0.055353</td>\n",
              "      <td>-0.059752</td>\n",
              "      <td>378.66</td>\n",
              "      <td>0</td>\n",
              "    </tr>\n",
              "    <tr>\n",
              "      <th>3</th>\n",
              "      <td>1.0</td>\n",
              "      <td>-0.966272</td>\n",
              "      <td>-0.185226</td>\n",
              "      <td>1.792993</td>\n",
              "      <td>-0.863291</td>\n",
              "      <td>-0.010309</td>\n",
              "      <td>1.247203</td>\n",
              "      <td>0.237609</td>\n",
              "      <td>0.377436</td>\n",
              "      <td>-1.387024</td>\n",
              "      <td>...</td>\n",
              "      <td>-0.108300</td>\n",
              "      <td>0.005274</td>\n",
              "      <td>-0.190321</td>\n",
              "      <td>-1.175575</td>\n",
              "      <td>0.647376</td>\n",
              "      <td>-0.221929</td>\n",
              "      <td>0.062723</td>\n",
              "      <td>0.061458</td>\n",
              "      <td>123.50</td>\n",
              "      <td>0</td>\n",
              "    </tr>\n",
              "    <tr>\n",
              "      <th>4</th>\n",
              "      <td>2.0</td>\n",
              "      <td>-1.158233</td>\n",
              "      <td>0.877737</td>\n",
              "      <td>1.548718</td>\n",
              "      <td>0.403034</td>\n",
              "      <td>-0.407193</td>\n",
              "      <td>0.095921</td>\n",
              "      <td>0.592941</td>\n",
              "      <td>-0.270533</td>\n",
              "      <td>0.817739</td>\n",
              "      <td>...</td>\n",
              "      <td>-0.009431</td>\n",
              "      <td>0.798278</td>\n",
              "      <td>-0.137458</td>\n",
              "      <td>0.141267</td>\n",
              "      <td>-0.206010</td>\n",
              "      <td>0.502292</td>\n",
              "      <td>0.219422</td>\n",
              "      <td>0.215153</td>\n",
              "      <td>69.99</td>\n",
              "      <td>0</td>\n",
              "    </tr>\n",
              "  </tbody>\n",
              "</table>\n",
              "<p>5 rows × 31 columns</p>\n",
              "</div>\n",
              "      <button class=\"colab-df-convert\" onclick=\"convertToInteractive('df-17afb2b4-37e0-4256-aa53-82d4cec3353b')\"\n",
              "              title=\"Convert this dataframe to an interactive table.\"\n",
              "              style=\"display:none;\">\n",
              "        \n",
              "  <svg xmlns=\"http://www.w3.org/2000/svg\" height=\"24px\"viewBox=\"0 0 24 24\"\n",
              "       width=\"24px\">\n",
              "    <path d=\"M0 0h24v24H0V0z\" fill=\"none\"/>\n",
              "    <path d=\"M18.56 5.44l.94 2.06.94-2.06 2.06-.94-2.06-.94-.94-2.06-.94 2.06-2.06.94zm-11 1L8.5 8.5l.94-2.06 2.06-.94-2.06-.94L8.5 2.5l-.94 2.06-2.06.94zm10 10l.94 2.06.94-2.06 2.06-.94-2.06-.94-.94-2.06-.94 2.06-2.06.94z\"/><path d=\"M17.41 7.96l-1.37-1.37c-.4-.4-.92-.59-1.43-.59-.52 0-1.04.2-1.43.59L10.3 9.45l-7.72 7.72c-.78.78-.78 2.05 0 2.83L4 21.41c.39.39.9.59 1.41.59.51 0 1.02-.2 1.41-.59l7.78-7.78 2.81-2.81c.8-.78.8-2.07 0-2.86zM5.41 20L4 18.59l7.72-7.72 1.47 1.35L5.41 20z\"/>\n",
              "  </svg>\n",
              "      </button>\n",
              "      \n",
              "  <style>\n",
              "    .colab-df-container {\n",
              "      display:flex;\n",
              "      flex-wrap:wrap;\n",
              "      gap: 12px;\n",
              "    }\n",
              "\n",
              "    .colab-df-convert {\n",
              "      background-color: #E8F0FE;\n",
              "      border: none;\n",
              "      border-radius: 50%;\n",
              "      cursor: pointer;\n",
              "      display: none;\n",
              "      fill: #1967D2;\n",
              "      height: 32px;\n",
              "      padding: 0 0 0 0;\n",
              "      width: 32px;\n",
              "    }\n",
              "\n",
              "    .colab-df-convert:hover {\n",
              "      background-color: #E2EBFA;\n",
              "      box-shadow: 0px 1px 2px rgba(60, 64, 67, 0.3), 0px 1px 3px 1px rgba(60, 64, 67, 0.15);\n",
              "      fill: #174EA6;\n",
              "    }\n",
              "\n",
              "    [theme=dark] .colab-df-convert {\n",
              "      background-color: #3B4455;\n",
              "      fill: #D2E3FC;\n",
              "    }\n",
              "\n",
              "    [theme=dark] .colab-df-convert:hover {\n",
              "      background-color: #434B5C;\n",
              "      box-shadow: 0px 1px 3px 1px rgba(0, 0, 0, 0.15);\n",
              "      filter: drop-shadow(0px 1px 2px rgba(0, 0, 0, 0.3));\n",
              "      fill: #FFFFFF;\n",
              "    }\n",
              "  </style>\n",
              "\n",
              "      <script>\n",
              "        const buttonEl =\n",
              "          document.querySelector('#df-17afb2b4-37e0-4256-aa53-82d4cec3353b button.colab-df-convert');\n",
              "        buttonEl.style.display =\n",
              "          google.colab.kernel.accessAllowed ? 'block' : 'none';\n",
              "\n",
              "        async function convertToInteractive(key) {\n",
              "          const element = document.querySelector('#df-17afb2b4-37e0-4256-aa53-82d4cec3353b');\n",
              "          const dataTable =\n",
              "            await google.colab.kernel.invokeFunction('convertToInteractive',\n",
              "                                                     [key], {});\n",
              "          if (!dataTable) return;\n",
              "\n",
              "          const docLinkHtml = 'Like what you see? Visit the ' +\n",
              "            '<a target=\"_blank\" href=https://colab.research.google.com/notebooks/data_table.ipynb>data table notebook</a>'\n",
              "            + ' to learn more about interactive tables.';\n",
              "          element.innerHTML = '';\n",
              "          dataTable['output_type'] = 'display_data';\n",
              "          await google.colab.output.renderOutput(dataTable, element);\n",
              "          const docLink = document.createElement('div');\n",
              "          docLink.innerHTML = docLinkHtml;\n",
              "          element.appendChild(docLink);\n",
              "        }\n",
              "      </script>\n",
              "    </div>\n",
              "  </div>\n",
              "  "
            ]
          },
          "metadata": {},
          "execution_count": 8
        }
      ]
    },
    {
      "cell_type": "code",
      "source": [
        "# Divide into features and labels\n",
        "df_x2 = df.iloc[:, 1:4]\n",
        "df_y2 = df['Class'].to_frame()\n",
        "\n",
        "total_points = df_y2.shape[0]\n",
        "split = round(total_points*0.6)\n",
        "\n",
        "# Convert to tensors\n",
        "train_x2 = torch.tensor(df_x2.values, dtype=torch.float32)[:split]\n",
        "train_y2 = torch.tensor(df_y2.values, dtype=torch.float32)[:split]\n",
        "\n",
        "test_x2 = torch.tensor(df_x2.values, dtype=torch.float32)[split:]\n",
        "test_y2 = torch.tensor(df_y2.values, dtype=torch.float32)[split:]\n",
        "\n",
        "train_x2.size(), train_y2.size(), test_x2.size(), test_y2.size()"
      ],
      "metadata": {
        "colab": {
          "base_uri": "https://localhost:8080/"
        },
        "id": "KhsZdgNHB1y8",
        "outputId": "8c8bdbc5-724b-49a6-ed2e-f43a92b8697a"
      },
      "execution_count": 9,
      "outputs": [
        {
          "output_type": "execute_result",
          "data": {
            "text/plain": [
              "(torch.Size([170884, 3]),\n",
              " torch.Size([170884, 1]),\n",
              " torch.Size([113923, 3]),\n",
              " torch.Size([113923, 1]))"
            ]
          },
          "metadata": {},
          "execution_count": 9
        }
      ]
    },
    {
      "cell_type": "code",
      "source": [
        "# Define same model as the previous time\n",
        "input_size2 = train_x2.size()[1]\n",
        "hidden_size2 = 10 # number of neurons in hidden layer\n",
        "output_size2 = 1\n",
        "\n",
        "model2 = nn.Sequential(nn.Linear(input_size2, hidden_size2)\n",
        "                      ,nn.Sigmoid()\n",
        "                      ,nn.Linear(hidden_size2, output_size2)\n",
        "                      ,nn.Sigmoid()) #why does adding sigmoid mess up the output?\n",
        "\n",
        "model2"
      ],
      "metadata": {
        "colab": {
          "base_uri": "https://localhost:8080/"
        },
        "id": "ZD4rr8FxFAux",
        "outputId": "075beb14-da92-439c-f479-0ef75ae7f0ae"
      },
      "execution_count": 10,
      "outputs": [
        {
          "output_type": "execute_result",
          "data": {
            "text/plain": [
              "Sequential(\n",
              "  (0): Linear(in_features=3, out_features=10, bias=True)\n",
              "  (1): Sigmoid()\n",
              "  (2): Linear(in_features=10, out_features=1, bias=True)\n",
              "  (3): Sigmoid()\n",
              ")"
            ]
          },
          "metadata": {},
          "execution_count": 10
        }
      ]
    },
    {
      "cell_type": "code",
      "source": [
        "train2 = [train_x2, train_y2]\n",
        "train_dset2 = CustomTensorDataset(train2)\n",
        "dataloader2 = DataLoader(train_dset2, batch_size=100, shuffle=True)\n",
        "\n",
        "# Define variables for training\n",
        "loss2 = nn.MSELoss() # mean squared error\n",
        "optimizer2 = optim.SGD(model2.parameters(), lr=0.2)"
      ],
      "metadata": {
        "id": "rGKnjXwrGCPL"
      },
      "execution_count": 11,
      "outputs": []
    },
    {
      "cell_type": "code",
      "source": [
        "losses2 = []\n",
        "start2 = time.time()\n",
        "\n",
        "# Train PyTorch model\n",
        "for epoch in range(10):\n",
        "  running_loss = 0\n",
        "  for data in dataloader2:\n",
        "    x, y = data\n",
        "    optimizer2.zero_grad() # reset gradients\n",
        "    loss_val = loss2(model2(x), y) # calculate loss\n",
        "    loss_val.backward() # calculate gradients\n",
        "    optimizer2.step() # update weights\n",
        "    running_loss += loss_val.item()\n",
        "  losses2.append(running_loss)\n",
        "end2 = time.time()\n",
        "\n",
        "print(end2-start2)"
      ],
      "metadata": {
        "colab": {
          "base_uri": "https://localhost:8080/"
        },
        "id": "F26UyIf9G5Bi",
        "outputId": "d9b002d8-d716-4d5b-a812-7277c186a9c7"
      },
      "execution_count": 12,
      "outputs": [
        {
          "output_type": "stream",
          "name": "stdout",
          "text": [
            "18.10177755355835\n"
          ]
        }
      ]
    },
    {
      "cell_type": "code",
      "source": [
        "plt.plot(losses2)"
      ],
      "metadata": {
        "colab": {
          "base_uri": "https://localhost:8080/",
          "height": 283
        },
        "id": "bGJz3xkSG7-9",
        "outputId": "0f849527-f13b-4f13-86c3-b0628b8f8cbc"
      },
      "execution_count": 13,
      "outputs": [
        {
          "output_type": "execute_result",
          "data": {
            "text/plain": [
              "[<matplotlib.lines.Line2D at 0x7f3bae43d110>]"
            ]
          },
          "metadata": {},
          "execution_count": 13
        },
        {
          "output_type": "display_data",
          "data": {
            "text/plain": [
              "<Figure size 432x288 with 1 Axes>"
            ],
            "image/png": "[encoded data removed]"
          },
          "metadata": {
            "needs_background": "light"
          }
        }
      ]
    },
    {
      "cell_type": "code",
      "source": [
        "# Predict on test set\n",
        "correct = 0\n",
        "total = test_y2.size()[0]\n",
        "for features, label in zip(test_x2, test_y2):\n",
        "    pred = 0 if model2(features).item() < 0.5 else 1\n",
        "    l = label.item()\n",
        "    if pred == l:\n",
        "      correct += 1\n",
        "accuracy = correct / total\n",
        "print(accuracy)"
      ],
      "metadata": {
        "colab": {
          "base_uri": "https://localhost:8080/"
        },
        "id": "iNW_Tuz4j1u9",
        "outputId": "155cbb89-e450-493d-cf90-1398485395eb"
      },
      "execution_count": 14,
      "outputs": [
        {
          "output_type": "stream",
          "name": "stdout",
          "text": [
            "0.9988413226477533\n"
          ]
        }
      ]
    },
    {
      "cell_type": "markdown",
      "source": [
        "## PyTorch model times\n",
        "##### With no hardware accelerator:\n",
        "- Model 1 (100 epochs, num_workers=2) -> **8.6883 s**\n",
        "- Model 2 (10 epochs, batch_size=100, num_workers=10) -> \n",
        "\n",
        "##### With GPU hardware accelerator:\n",
        "- Model 1 (100 epochs, num_workers=2) -> **7.9927 s**\n",
        "- Model 2 (10 epochs, batch_size=100, num_workers=10)\n",
        "  - **4.8472 s**\n",
        "  - **accuracy of 99.35%**\n",
        "- Model 2 (10 epochs, num_workers = 10) \n",
        "  - **179.3489 s** \n",
        "  - **accuracy of 99.55%**\n",
        "- Model 2 (10 epochs)\n",
        "  - **37.5481 s**\n",
        "  - **accuracy of 99.6%**\n",
        "\n",
        "Results are expected using the first 10000 data points of the original data with 3 features, with an 80/20 train test split.\n",
        "\n",
        "## Final Model\n",
        "\n",
        "- Model 2 on entire dataset with 60/40 split & batch_size=100\n",
        "  - **17.4195 s**\n",
        "  - **accuracy of 99.88%**\n",
        "\n",
        "Further exploration questions/todos:\n",
        "-  why does sigmoid activation in output layer not work on model 1?\n",
        "- what does num_workers do? (note how training of model was faster without workers)\n",
        "- any particular advantages to using nn.Sequential vs nn.Module?\n",
        "- GPU vs TPU, when is it best to use each\n",
        "- do a classification matrix on final model for evaluation\n",
        "- create JAX neural net for Titanic dataset and submit, note accuracy in test set\n"
      ],
      "metadata": {
        "id": "tKCP-fgrIMiu"
      }
    },
    {
      "cell_type": "markdown",
      "source": [
        "### Build same model with JAX on credit card dataset - keep track of time of training and prediction and compare to PyTorch's model"
      ],
      "metadata": {
        "id": "gDeMb2IQA-tw"
      }
    },
    {
      "cell_type": "code",
      "source": [
        "# Initialize parameters of the model\n",
        "seed = 0\n",
        "\n",
        "def init_params(layers_size, parent_key):\n",
        "\n",
        "  params = []\n",
        "  # From a parent key, generate different keys for each layer\n",
        "  keys = jax.random.split(parent_key, num=len(layers_size)-1) # understand better what split does/why is it useful\n",
        "\n",
        "  # Set sizes of layers in the model (inputs to layers and outputs to layers)\n",
        "  in_layers = layers_size[:-1]\n",
        "  out_of_layers = layers_size[1:]\n",
        "\n",
        "  for in_layer, out_of_layer, key in zip(in_layers, out_of_layers, keys):\n",
        "    weights_key, bias_key = jax.random.split(key)\n",
        "\n",
        "    # Initialize params to be an array [weights, bias]\n",
        "    #where the weights are n rows (number of neurons, outputs to layer, inputs to next layer) x m columns (number of inputs to layer, outputs from previous layer/features)\n",
        "    #bias are n rows x 1 column (one bias per neuron)\n",
        "    params.append([\n",
        "        0.01*jax.random.normal(weights_key, shape=(out_of_layer, in_layer)) # n x m matrix\n",
        "        ,0.01*jax.random.normal(bias_key, shape=(out_of_layer,)) # vector with n values\n",
        "    ])\n",
        "\n",
        "  return params\n",
        "key3 = jax.random.PRNGKey(seed)\n",
        "params_t = init_params([3,100,2], key3)\n",
        "\n",
        "# Go through each layer of the initialized params and check if the shape is the expected one\n",
        "jax.tree_map(lambda x: x.shape, params_t)"
      ],
      "metadata": {
        "colab": {
          "base_uri": "https://localhost:8080/"
        },
        "id": "oUB1MviT959t",
        "outputId": "240f8270-18ff-42e0-e547-3afe799e7532"
      },
      "execution_count": 15,
      "outputs": [
        {
          "output_type": "stream",
          "name": "stderr",
          "text": [
            "WARNING:jax._src.lib.xla_bridge:No GPU/TPU found, falling back to CPU. (Set TF_CPP_MIN_LOG_LEVEL=0 and rerun for more info.)\n"
          ]
        },
        {
          "output_type": "execute_result",
          "data": {
            "text/plain": [
              "[[(100, 3), (100,)], [(2, 100), (2,)]]"
            ]
          },
          "metadata": {},
          "execution_count": 15
        }
      ]
    },
    {
      "cell_type": "code",
      "source": [
        "# Transform tensors to np arrays in dataloaders, tensors not compatible with JAX\n",
        "def custom_collate_fn(batch):\n",
        "    transposed_data = list(zip(*batch))\n",
        "\n",
        "    labels = np.stack(transposed_data[1])\n",
        "    features = np.stack(transposed_data[0])\n",
        "\n",
        "    return features, labels"
      ],
      "metadata": {
        "id": "qEbg5MIHHsnb"
      },
      "execution_count": 16,
      "outputs": []
    },
    {
      "cell_type": "code",
      "source": [
        "# Convert pd.dataframes to tensors\n",
        "train_x3 = torch.tensor(df_x2.values, dtype=torch.float32)[:split]\n",
        "train_y3 = torch.squeeze(torch.tensor(df_y2.values, dtype=torch.float32)[:split])\n",
        "\n",
        "test_x3 = torch.tensor(df_x2.values, dtype=torch.float32)[split:]\n",
        "test_y3 = torch.squeeze(torch.tensor(df_y2.values, dtype=torch.float32)[split:])\n",
        "\n",
        "train_x3.size(), train_y3.size(), test_x3.size(), test_y3.size()"
      ],
      "metadata": {
        "colab": {
          "base_uri": "https://localhost:8080/"
        },
        "id": "UhpqEkjXFcX5",
        "outputId": "912d1ada-6fa7-4352-aed6-cbb256fb90f3"
      },
      "execution_count": 17,
      "outputs": [
        {
          "output_type": "execute_result",
          "data": {
            "text/plain": [
              "(torch.Size([170884, 3]),\n",
              " torch.Size([170884]),\n",
              " torch.Size([113923, 3]),\n",
              " torch.Size([113923]))"
            ]
          },
          "metadata": {},
          "execution_count": 17
        }
      ]
    },
    {
      "cell_type": "code",
      "source": [
        "# Take first 10000 values for training and add all TPs to the data\n",
        "\n",
        "## Take index of all TPs\n",
        "TP_idxs = (train_y3 == 1.).nonzero(as_tuple=True)[0] # tensor of indexes of all TPs in the dataset\n",
        "\n",
        "## Eliminate indexes below 10000 (will already be in the training dsataset)\n",
        "TP_idxs = TP_idxs[TP_idxs > 10000]\n",
        "\n",
        "## Create training set of first 10000 data points\n",
        "train_xt = train_x3\n",
        "train_yt = train_y3\n",
        "\n",
        "## Add TPs with indexes in TP_idxs to training set\n",
        "train_xTPs = train_x3[TP_idxs]\n",
        "train_yTPs = train_y3[TP_idxs]\n",
        "\n",
        "## Concatenate training data with remaining TPs\n",
        "train_xtfinal = torch.cat((train_xt, train_xTPs.repeat(50,1)), 0)\n",
        "train_ytfinal = torch.cat((train_yt, train_yTPs.repeat(50)), 0)\n",
        "\n",
        "train_xtfinal.size(), train_ytfinal.size()\n",
        "# We just increased the number of TPs by around 50x, let's try training on this new data"
      ],
      "metadata": {
        "colab": {
          "base_uri": "https://localhost:8080/"
        },
        "id": "KMvc8MmsJdaS",
        "outputId": "a08c76dc-e95f-416b-ac48-71efc546c9aa"
      },
      "execution_count": 37,
      "outputs": [
        {
          "output_type": "execute_result",
          "data": {
            "text/plain": [
              "(torch.Size([186984, 3]), torch.Size([186984]))"
            ]
          },
          "metadata": {},
          "execution_count": 37
        }
      ]
    },
    {
      "cell_type": "code",
      "source": [
        "batch_size_t = 100\n",
        "# Create train and test dataloaders\n",
        "train_t = [train_xtfinal, train_ytfinal]\n",
        "train_dset_t = CustomTensorDataset(train_t)\n",
        "train_dl_t = DataLoader(train_dset_t, batch_size=batch_size_t, collate_fn=custom_collate_fn, shuffle=True)\n",
        "\n",
        "test_t = [test_x3, test_y3] # same data as in last model\n",
        "test_dset_t = CustomTensorDataset(test_t)\n",
        "test_dl_t = DataLoader(test_dset_t, batch_size=batch_size_t, collate_fn=custom_collate_fn, shuffle=False)\n",
        "\n",
        "train_features = jnp.array(train_dset_t.tensors[0]).reshape(len(train_dset_t), -1)\n",
        "train_lbls = jnp.array(train_dset_t.tensors[1])\n",
        "\n",
        "test_features = jnp.array(test_dset_t.tensors[0]).reshape(len(test_dset_t), -1)\n",
        "test_lbls = jnp.array(test_dset_t.tensors[1])\n",
        "\n",
        "# Print shapes of each batch to see if it matches up with the expected shapes based on our batch size\n",
        "for x, y in train_dl_t:\n",
        "  print(x.shape)\n",
        "  print(y.shape)\n",
        "  break\n",
        "print('----')\n",
        "for x, y in test_dl_t:\n",
        "  print(x.shape)\n",
        "  print(y.shape)\n",
        "  break"
      ],
      "metadata": {
        "colab": {
          "base_uri": "https://localhost:8080/"
        },
        "id": "8KoStjHoONp_",
        "outputId": "fb0024ef-c74b-4499-fff6-0d9c2900dc8a"
      },
      "execution_count": 38,
      "outputs": [
        {
          "output_type": "stream",
          "name": "stdout",
          "text": [
            "(100, 3)\n",
            "(100,)\n",
            "----\n",
            "(100, 3)\n",
            "(100,)\n"
          ]
        }
      ]
    },
    {
      "cell_type": "code",
      "source": [
        "# Create a function to predict using the initialized neural net\n",
        "def predict(params, x):\n",
        "  hiddens = params[:-1] # take all hidden layers of the model (only one in our case)\n",
        "  \n",
        "  # Create a variable that will forward through the network (except the final layer) and store its output, based on an initial input\n",
        "  output_x = x\n",
        "  # Forward pass of x into the hidden layers\n",
        "  for w, b in hiddens:\n",
        "    output_x = jax.nn.sigmoid(jnp.dot(w, output_x) + b)\n",
        "  # at the end of this for loop, we have the inputs to the final layer of the network\n",
        "\n",
        "  # Forward pass output layer \n",
        "  #(done separately because often the final activation is different. if activation is the same, this operation can be implemented in the for loop above)\n",
        "  ws_last, b_last = params[-1]\n",
        "  final_output = jnp.dot(ws_last, output_x) + b_last\n",
        "\n",
        "  return final_output - logsumexp(final_output) # final_output\n",
        "\n",
        "batched_predict = vmap(predict, in_axes=(None, 0))\n",
        "\n",
        "print(batched_predict(params_t, train_features).shape)"
      ],
      "metadata": {
        "colab": {
          "base_uri": "https://localhost:8080/"
        },
        "id": "j5bIorygOg9S",
        "outputId": "a3ef3cd9-3e2b-41b6-9713-60cb264d58df"
      },
      "execution_count": 39,
      "outputs": [
        {
          "output_type": "stream",
          "name": "stdout",
          "text": [
            "(186984, 2)\n"
          ]
        }
      ]
    },
    {
      "cell_type": "code",
      "source": [
        "# Loss function\n",
        "def loss_fn(params, features, gt_labels):\n",
        "  \n",
        "    predictions = batched_predict(params, features)\n",
        "    return -jnp.mean(predictions * gt_labels)\n",
        "\n",
        "\n",
        "for fs, lbls in test_dl_t:\n",
        "  print(fs.shape)\n",
        "  print(jax.nn.one_hot(lbls, 2).shape)\n",
        "  print('---')\n",
        "  print(loss_fn(params_t, fs, jax.nn.one_hot(lbls, 2)))\n",
        "  break"
      ],
      "metadata": {
        "colab": {
          "base_uri": "https://localhost:8080/"
        },
        "id": "F1rCcjCUMf8H",
        "outputId": "066ff16f-a16b-4db9-adb7-ffdccbcef37f"
      },
      "execution_count": 40,
      "outputs": [
        {
          "output_type": "stream",
          "name": "stdout",
          "text": [
            "(100, 3)\n",
            "(100, 2)\n",
            "---\n",
            "0.32397273\n"
          ]
        }
      ]
    },
    {
      "cell_type": "code",
      "source": [
        "# Update function\n",
        "@jit # jit causes the function inputs to change type\n",
        "def update(params, features, labels, lr=0.01):\n",
        "  loss, grads = value_and_grad(loss_fn)(params, features, labels)\n",
        "\n",
        "  return loss, jax.tree_map(lambda p, g: p - lr*g, params, grads)"
      ],
      "metadata": {
        "id": "gl20By9uPXqW"
      },
      "execution_count": 41,
      "outputs": []
    },
    {
      "cell_type": "code",
      "source": [
        "# Accuracy function\n",
        "def accuracy(params, ds_features, ds_labels):\n",
        "  # Return accuracy of model's (params3) predictions based on test dataloader\n",
        "  pred_classes = jnp.argmax(batched_predict(params, ds_features), axis=1)\n",
        "  return jnp.mean(ds_labels == pred_classes)\n",
        "\n",
        "accuracy(params_t, train_features, train_lbls)"
      ],
      "metadata": {
        "colab": {
          "base_uri": "https://localhost:8080/"
        },
        "id": "1BwJm3t8NHUt",
        "outputId": "637828c9-3271-4eaf-8bc1-94b21fd95a13"
      },
      "execution_count": 42,
      "outputs": [
        {
          "output_type": "execute_result",
          "data": {
            "text/plain": [
              "DeviceArray(0.9119711, dtype=float32)"
            ]
          },
          "metadata": {},
          "execution_count": 42
        }
      ]
    },
    {
      "cell_type": "code",
      "source": [
        "jnp.sum(jnp.argmax(batched_predict(params_t, train_features), axis=1))"
      ],
      "metadata": {
        "colab": {
          "base_uri": "https://localhost:8080/"
        },
        "id": "2Q09QbZTSFmq",
        "outputId": "8ed43cf9-0627-4e84-a115-f43f4bd34130"
      },
      "execution_count": 43,
      "outputs": [
        {
          "output_type": "execute_result",
          "data": {
            "text/plain": [
              "DeviceArray(0, dtype=int32)"
            ]
          },
          "metadata": {},
          "execution_count": 43
        }
      ]
    },
    {
      "cell_type": "code",
      "source": [
        "# Train model\n",
        "n_epochs = 50\n",
        "\n",
        "new_params = init_params([3,100,100,2], key3)\n",
        "\n",
        "print(f'Pre-training: test acc = {accuracy(new_params, test_features, test_lbls)}')\n",
        "start3 = time.time()\n",
        "for epoch in range(n_epochs):\n",
        "  running_loss = 0\n",
        "  for i, (features, labels) in enumerate(train_dl_t):\n",
        "\n",
        "    gt_labels = jax.nn.one_hot(labels, 2)\n",
        "    loss, new_params = update(new_params, features, gt_labels)\n",
        "    running_loss += loss\n",
        "    \n",
        "  print(f'Epoch {epoch+1}, test acc = {accuracy(new_params, test_features, test_lbls)}, running loss = {running_loss}')\n",
        "\n",
        "end3 = time.time()\n",
        "\n",
        "print(end3 - start3)"
      ],
      "metadata": {
        "colab": {
          "base_uri": "https://localhost:8080/"
        },
        "id": "VgNZChUuj3O8",
        "outputId": "7257afdf-59ae-45a9-fdcf-bfa5ed6ced2b"
      },
      "execution_count": 44,
      "outputs": [
        {
          "output_type": "stream",
          "name": "stdout",
          "text": [
            "Pre-training: test acc = 0.0011586773907765746\n",
            "Epoch 1, test acc = 0.9988413453102112, running loss = 280.9410095214844\n",
            "Epoch 2, test acc = 0.9988413453102112, running loss = 278.43084716796875\n",
            "Epoch 3, test acc = 0.9988413453102112, running loss = 278.23834228515625\n",
            "Epoch 4, test acc = 0.9988413453102112, running loss = 277.9466552734375\n",
            "Epoch 5, test acc = 0.9988413453102112, running loss = 277.4809875488281\n",
            "Epoch 6, test acc = 0.9988413453102112, running loss = 276.7340393066406\n",
            "Epoch 7, test acc = 0.9988413453102112, running loss = 275.5912780761719\n",
            "Epoch 8, test acc = 0.9988413453102112, running loss = 273.66412353515625\n",
            "Epoch 9, test acc = 0.9988413453102112, running loss = 270.2906188964844\n",
            "Epoch 10, test acc = 0.9988413453102112, running loss = 263.8170471191406\n",
            "Epoch 11, test acc = 0.9988413453102112, running loss = 250.0774383544922\n",
            "Epoch 12, test acc = 0.9988413453102112, running loss = 221.1905517578125\n",
            "Epoch 13, test acc = 0.9958568811416626, running loss = 178.460693359375\n",
            "Epoch 14, test acc = 0.9902917146682739, running loss = 146.99757385253906\n",
            "Epoch 15, test acc = 0.986561119556427, running loss = 133.7479248046875\n",
            "Epoch 16, test acc = 0.9839453101158142, running loss = 128.8418731689453\n",
            "Epoch 17, test acc = 0.9833835363388062, running loss = 126.78382873535156\n",
            "Epoch 18, test acc = 0.9817245006561279, running loss = 125.71488952636719\n",
            "Epoch 19, test acc = 0.9829621911048889, running loss = 125.03165435791016\n",
            "Epoch 20, test acc = 0.9816631078720093, running loss = 124.61168670654297\n",
            "Epoch 21, test acc = 0.9813207387924194, running loss = 124.27470397949219\n",
            "Epoch 22, test acc = 0.9823565483093262, running loss = 124.03736114501953\n",
            "Epoch 23, test acc = 0.9816016554832458, running loss = 123.88396453857422\n",
            "Epoch 24, test acc = 0.9820141792297363, running loss = 123.7365493774414\n",
            "Epoch 25, test acc = 0.981022298336029, running loss = 123.61495208740234\n",
            "Epoch 26, test acc = 0.9805834293365479, running loss = 123.52967071533203\n",
            "Epoch 27, test acc = 0.9819527268409729, running loss = 123.47330474853516\n",
            "Epoch 28, test acc = 0.9815753102302551, running loss = 123.3997573852539\n",
            "Epoch 29, test acc = 0.9822950959205627, running loss = 123.3420639038086\n",
            "Epoch 30, test acc = 0.9806711673736572, running loss = 123.29147338867188\n",
            "Epoch 31, test acc = 0.9805131554603577, running loss = 123.2308120727539\n",
            "Epoch 32, test acc = 0.9802586436271667, running loss = 123.17826843261719\n",
            "Epoch 33, test acc = 0.982040524482727, running loss = 123.11065673828125\n",
            "Epoch 34, test acc = 0.980451762676239, running loss = 123.04719543457031\n",
            "Epoch 35, test acc = 0.9812066555023193, running loss = 122.9759521484375\n",
            "Epoch 36, test acc = 0.9807853102684021, running loss = 122.91049194335938\n",
            "Epoch 37, test acc = 0.9807238578796387, running loss = 122.8361587524414\n",
            "Epoch 38, test acc = 0.9801971912384033, running loss = 122.75611877441406\n",
            "Epoch 39, test acc = 0.9810837507247925, running loss = 122.70211791992188\n",
            "Epoch 40, test acc = 0.9814172983169556, running loss = 122.58422088623047\n",
            "Epoch 41, test acc = 0.9812329411506653, running loss = 122.48902893066406\n",
            "Epoch 42, test acc = 0.9804868698120117, running loss = 122.38567352294922\n",
            "Epoch 43, test acc = 0.9805570840835571, running loss = 122.29069519042969\n",
            "Epoch 44, test acc = 0.9807062745094299, running loss = 122.17310333251953\n",
            "Epoch 45, test acc = 0.9812856316566467, running loss = 122.03968811035156\n",
            "Epoch 46, test acc = 0.9798548221588135, running loss = 121.920166015625\n",
            "Epoch 47, test acc = 0.9802586436271667, running loss = 121.77799987792969\n",
            "Epoch 48, test acc = 0.9803376197814941, running loss = 121.62490844726562\n",
            "Epoch 49, test acc = 0.981478750705719, running loss = 121.47127532958984\n",
            "Epoch 50, test acc = 0.9809345006942749, running loss = 121.314453125\n",
            "177.43950867652893\n"
          ]
        }
      ]
    },
    {
      "cell_type": "code",
      "source": [
        "def confusion_matrix(params, ds_features, ds_labels):\n",
        "\n",
        "  conf_matrix = {'TPs': 0, 'TNs': 0, 'FPs': 0, 'FNs': 0}\n",
        "  # Make predictions\n",
        "  pred_classes = jnp.argmax(batched_predict(params, ds_features), axis=1)\n",
        "  # print(pred_classes.sum())\n",
        "  # Count occurence of each type in confusion matrix\n",
        "  for i in range(len(pred_classes)):\n",
        "    label = ds_labels[i]\n",
        "    pred = pred_classes[i]\n",
        "\n",
        "    if label == 1. and pred == 1: # truly predicted positive\n",
        "        conf_matrix['TPs'] += 1\n",
        "    elif label == 0. and pred == 1: # falsely predicted positive\n",
        "        conf_matrix['FPs'] += 1\n",
        "    elif label == 1. and pred == 0: # falsely predicted negative\n",
        "        conf_matrix['FNs'] += 1\n",
        "    elif label == 0. and pred == 0: # truly predicted negative\n",
        "        conf_matrix['TNs'] += 1\n",
        "\n",
        "    if i % 10000 == 0:\n",
        "      print(i)\n",
        "\n",
        "  print(conf_matrix)\n",
        "  \n",
        "  # Accuracy (what fraction does it get right) = (# TP + # TN) / Total\n",
        "  accuracy = (conf_matrix['TPs'] + conf_matrix['TNs']) / sum(conf_matrix.values())\n",
        "  print('ACCURACY: ', round(accuracy, 3))\n",
        "  print(' ')\n",
        "  \n",
        "  # Precision (when it says 1, how often is it right) = # TP / (# TP + # FP)\n",
        "  precision = conf_matrix['TPs'] / (conf_matrix['TPs'] + conf_matrix['FPs'])\n",
        "  print('PRECISION: ', round(precision, 3))\n",
        "  print(' ')\n",
        "  \n",
        "  # Recall (what fraction of 1s does it get right) = # TP / (# TP + # FN)\n",
        "  recall = conf_matrix['TPs'] / (conf_matrix['TPs'] + conf_matrix['FNs'])\n",
        "  print('RECALL: ', round(recall, 3))\n",
        "  print(' ')\n",
        "  \n",
        "  # False positive rate (what fraction of 0s are called 1s) = # FP / (# FP + # TN)\n",
        "  fprate = conf_matrix['FPs'] / (conf_matrix['FPs'] + conf_matrix['TNs'])\n",
        "  print('FALSE POSITIVE RATE: ', round(fprate, 3))\n",
        "  print(' ')\n",
        "  \n",
        "  # False negative rate (what fraction of 1s are called 0s) = # FN / (# TP + # FN)\n",
        "  fnrate = conf_matrix['FNs'] / (conf_matrix['TPs'] + conf_matrix['FNs'])\n",
        "  print('FALSE NEGATIVE RATE: ', round(fnrate, 3))\n",
        "\n",
        "  # Plot confusion matrix\n",
        "  matrix_arr = [[conf_matrix['TNs'], conf_matrix['FPs']], [conf_matrix['FNs'], conf_matrix['TPs']]]\n",
        "  plt.imshow(matrix_arr, cmap = 'coolwarm', alpha = 0.5)\n",
        "  plt.xticks(np.arange(0, 2), ['0', '1'])\n",
        "  plt.yticks(np.arange(0, 2), ['0', '1'])\n",
        "\n",
        "  plt.text(-0.1, 0, matrix_arr[0][0], fontsize = 14) # TNs\n",
        "  plt.text(0.95, 0, matrix_arr[0][1], fontsize = 14) # FPs\n",
        "  plt.text(-0.1, 1, matrix_arr[1][0], fontsize = 14) # FNs\n",
        "  plt.text(0.95, 1, matrix_arr[1][1], fontsize = 14) # TPs\n",
        "\n",
        "  plt.xlabel('Predictions', fontsize=18)\n",
        "  plt.ylabel('Actuals', fontsize=18)\n",
        "  plt.title('Confusion Matrix', fontsize=18)\n",
        "  plt.show()\n",
        "\n",
        "  return conf_matrix\n",
        "\n",
        "confusion_matrix(new_params, test_features, test_lbls)\n",
        "\n",
        "# How do I improve the performance of the confusion matrix?\n",
        "# Does the GPU optimize the confusion matrix implementation above? (where I go through each item one by one)"
      ],
      "metadata": {
        "colab": {
          "base_uri": "https://localhost:8080/",
          "height": 718
        },
        "id": "Q24ao325aUGn",
        "outputId": "58244864-7325-4212-9c71-5fda6e802977"
      },
      "execution_count": 45,
      "outputs": [
        {
          "output_type": "stream",
          "name": "stdout",
          "text": [
            "0\n",
            "10000\n",
            "20000\n",
            "30000\n",
            "40000\n",
            "50000\n",
            "60000\n",
            "70000\n",
            "80000\n",
            "90000\n",
            "100000\n",
            "110000\n",
            "{'TPs': 92, 'TNs': 111659, 'FPs': 2132, 'FNs': 40}\n",
            "ACCURACY:  0.981\n",
            " \n",
            "PRECISION:  0.041\n",
            " \n",
            "RECALL:  0.697\n",
            " \n",
            "FALSE POSITIVE RATE:  0.019\n",
            " \n",
            "FALSE NEGATIVE RATE:  0.303\n"
          ]
        },
        {
          "output_type": "display_data",
          "data": {
            "text/plain": [
              "<Figure size 432x288 with 1 Axes>"
            ],
            "image/png": "[encoded data removed]"
          },
          "metadata": {
            "needs_background": "light"
          }
        },
        {
          "output_type": "execute_result",
          "data": {
            "text/plain": [
              "{'TPs': 92, 'TNs': 111659, 'FPs': 2132, 'FNs': 40}"
            ]
          },
          "metadata": {},
          "execution_count": 45
        }
      ]
    },
    {
      "cell_type": "code",
      "source": [],
      "metadata": {
        "id": "lPpzPuuUZBhU"
      },
      "execution_count": 26,
      "outputs": []
    },
    {
      "cell_type": "markdown",
      "source": [
        "- Run 1 - 50 epochs\n",
        "- Run 2 - TPs repeated 80 times, 15 epochs\n",
        "- Run 3 - TPs repeated 50 times, 50 epochs"
      ],
      "metadata": {
        "id": "ioIsCrZVgP6d"
      }
    },
    {
      "cell_type": "code",
      "source": [],
      "metadata": {
        "id": "8wg45u9PiKJE"
      },
      "execution_count": 26,
      "outputs": []
    },
    {
      "cell_type": "markdown",
      "source": [
        "### TODOS\n",
        "\n",
        "- try CC model with focal loss (loss function which suits the dataset better - with low number of TPs)\n",
        "- try CC model with more TPs (meaning we copy the positive data points so the ratio of TPs/FPs is higher\n",
        "- analyze results with each and with both"
      ],
      "metadata": {
        "id": "VAvaFphOzTcU"
      }
    }
  ]
}